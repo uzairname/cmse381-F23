{
 "cells": [
  {
   "cell_type": "markdown",
   "id": "4dfd68f5",
   "metadata": {},
   "source": [
    "# Subset Selection\n",
    "## CMSE 381 - Fall 2023\n",
    "## Oct 13,  2023. Lecture 17\n",
    "\n"
   ]
  },
  {
   "cell_type": "code",
   "execution_count": null,
   "id": "4ea3a4b4",
   "metadata": {},
   "outputs": [],
   "source": [
    "# Everyone's favorite standard imports\n",
    "import numpy as np\n",
    "import pandas as pd\n",
    "import matplotlib.pyplot as plt\n",
    "import seaborn as sns\n",
    "%matplotlib inline\n",
    "\n",
    "from sklearn.linear_model import LinearRegression,LogisticRegression\n",
    "from sklearn.metrics import mean_squared_error\n",
    "from sklearn.model_selection import cross_val_score\n",
    "from sklearn.model_selection import KFold"
   ]
  },
  {
   "cell_type": "code",
   "execution_count": null,
   "id": "903917e1",
   "metadata": {},
   "outputs": [],
   "source": [
    "# First, we're going to do all the data loading we've had for a while for this data set\n",
    "auto = pd.read_csv('../../DataSets/Auto.csv')\n",
    "auto = auto.replace('?', np.nan)\n",
    "auto = auto.dropna()\n",
    "auto.horsepower = auto.horsepower.astype('int')\n",
    "\n",
    "#this shuffles my data set in advance so that i don't need to worry about it later \n",
    "auto = auto.sample(frac=1).reset_index(drop=True)\n",
    "\n",
    "\n",
    "auto.head()\n"
   ]
  },
  {
   "cell_type": "markdown",
   "id": "103ab479",
   "metadata": {},
   "source": [
    "Let's try to run subset selection on the `auto` data set! We're going to use `cylinders`, `horsepower`, `weight`, and `acceleration` to predict `mpg`. "
   ]
  },
  {
   "cell_type": "code",
   "execution_count": null,
   "id": "84c5b9f0",
   "metadata": {},
   "outputs": [],
   "source": [
    "inputvars = ['cylinders','horsepower','weight', 'acceleration']"
   ]
  },
  {
   "cell_type": "markdown",
   "id": "74783122",
   "metadata": {},
   "source": [
    "The first tool we are going to use is the `itertools` package, which gives us a way to get subsets of whatever size we want using the `combinations` command.  "
   ]
  },
  {
   "cell_type": "code",
   "execution_count": null,
   "id": "dee0f0c4",
   "metadata": {},
   "outputs": [],
   "source": [
    "from itertools import combinations"
   ]
  },
  {
   "cell_type": "markdown",
   "id": "41ea43df",
   "metadata": {},
   "source": [
    "The weird thing is it's an iterator, so if I just try to print out what I want, it's not helpful to me. "
   ]
  },
  {
   "cell_type": "code",
   "execution_count": null,
   "id": "8a72b548",
   "metadata": {},
   "outputs": [],
   "source": [
    "combinations(inputvars,2)"
   ]
  },
  {
   "cell_type": "markdown",
   "id": "746992ca",
   "metadata": {},
   "source": [
    "But if I use it in a for loop it does what I want!"
   ]
  },
  {
   "cell_type": "code",
   "execution_count": null,
   "id": "a9dc2a3d",
   "metadata": {},
   "outputs": [],
   "source": [
    "for x in combinations(inputvars,2):\n",
    "    print(x)"
   ]
  },
  {
   "cell_type": "markdown",
   "id": "56ac1c62",
   "metadata": {},
   "source": [
    "Here's some code stolen from the last few days to run linear regression on a subset of the input variables. "
   ]
  },
  {
   "cell_type": "code",
   "execution_count": null,
   "id": "177139b9",
   "metadata": {},
   "outputs": [],
   "source": [
    "def myscore(df,listofvars, outputvar = 'mpg'):\n",
    "    X = df[list(listofvars)]\n",
    "    y = df[outputvar]\n",
    "    \n",
    "    #build linear regression model\n",
    "    model = LinearRegression()\n",
    "    \n",
    "\n",
    "    #use 5-fold CV to evaluate model\n",
    "    scores = cross_val_score(model, X,y, \n",
    "                             scoring='neg_mean_squared_error',\n",
    "                             cv=5)\n",
    "\n",
    "    #view mean absolute error\n",
    "    return np.average(np.absolute(scores))\n",
    "    \n",
    "\n",
    "myvars = ('cylinders', 'acceleration')\n",
    "myscore(auto,myvars)"
   ]
  },
  {
   "cell_type": "markdown",
   "id": "e4646f3d",
   "metadata": {},
   "source": [
    "\n",
    "&#9989; **<font color=red>Do this:</font>** Modify the code below as follows: \n",
    "- Set up two nested for loops to get every size $p = \\{1,\\cdots,4\\}$ subset of my list of variables I want to use\n",
    "- For each of these subsets, use the `myscore` function to get the k-fold CV error.\n",
    "- Append it into a data frame as shown\n"
   ]
  },
  {
   "cell_type": "code",
   "execution_count": null,
   "id": "87e50fac",
   "metadata": {},
   "outputs": [],
   "source": [
    "myvars = []\n",
    "myscores = []\n",
    "\n",
    "#-----\n",
    "# your loop goes in here\n",
    "#-----\n",
    "        \n",
    "myResults = pd.DataFrame({'Vars':myvars, 'Score':myscores})\n",
    "myResults"
   ]
  },
  {
   "cell_type": "markdown",
   "id": "4af5d944",
   "metadata": {},
   "source": [
    "We got all our main subsets, we're just missing a null model. This is the model that predicts the sample mean `mpg` for any input data. \n",
    "\n",
    "&#9989; **<font color=red>Do this:</font>** What is the MSE on our data set if we just predict the mean for every data point? Add this entry to your `myResults` data frame\n",
    "\n",
    "*Hint: you can get a numpy array with every entry being the same output by using the `np.full` command.*"
   ]
  },
  {
   "cell_type": "code",
   "execution_count": null,
   "id": "66e87bbc",
   "metadata": {},
   "outputs": [],
   "source": [
    "## Your code here ##\n",
    "\n",
    "myscore = np.nan #<---- fix this to get your score! Then run\n",
    "                 #      the cell below to append it to your \n",
    "                 #      dataframe. "
   ]
  },
  {
   "cell_type": "code",
   "execution_count": null,
   "id": "755c13a1",
   "metadata": {},
   "outputs": [],
   "source": [
    "newresult = pd.DataFrame({'Vars':['empty'], 'Score':[myscore]})\n",
    "\n",
    "myResults = pd.concat([newresult,myResults],ignore_index = True)\n",
    "\n",
    "# If you print it out now, you should have 16 models scored\n",
    "myResults"
   ]
  },
  {
   "cell_type": "markdown",
   "id": "5026a0eb",
   "metadata": {},
   "source": [
    "&#9989; **<font color=red>Do this:</font>** What is the minimum score over all subsets? Which model makes it happen? The `idxmin` command will likely be useful for this. "
   ]
  },
  {
   "cell_type": "code",
   "execution_count": null,
   "id": "298d136a",
   "metadata": {},
   "outputs": [],
   "source": [
    "# Your code here #"
   ]
  },
  {
   "cell_type": "markdown",
   "id": "266e4ce4",
   "metadata": {},
   "source": [
    "## Stretch project\n",
    "\n",
    "Have some free time? \n",
    "\n",
    "&#9989; **<font color=red>Strech project:</font>** Figure out how to do this for forward selection. \n",
    "\n",
    "- First, try to write pseudo code for how to search through these subsets. \n",
    "- Then if you still have time, see if you can get it working on this set of four variables. "
   ]
  },
  {
   "cell_type": "code",
   "execution_count": null,
   "id": "04b6ea56",
   "metadata": {},
   "outputs": [],
   "source": [
    "# Your code here #"
   ]
  },
  {
   "cell_type": "code",
   "execution_count": null,
   "id": "ca1ee731",
   "metadata": {},
   "outputs": [],
   "source": []
  },
  {
   "cell_type": "markdown",
   "id": "66f79113",
   "metadata": {},
   "source": [
    "\n",
    "\n",
    "-----\n",
    "### Congratulations, we're done!\n",
    "Written by Dr. Liz Munch, Michigan State University\n",
    "\n",
    "<a rel=\"license\" href=\"http://creativecommons.org/licenses/by-nc/4.0/\"><img alt=\"Creative Commons License\" style=\"border-width:0\" src=\"https://i.creativecommons.org/l/by-nc/4.0/88x31.png\" /></a><br />This work is licensed under a <a rel=\"license\" href=\"http://creativecommons.org/licenses/by-nc/4.0/\">Creative Commons Attribution-NonCommercial 4.0 International License</a>."
   ]
  },
  {
   "cell_type": "code",
   "execution_count": null,
   "id": "3fb8354f",
   "metadata": {},
   "outputs": [],
   "source": []
  }
 ],
 "metadata": {
  "kernelspec": {
   "display_name": "Python 3 (ipykernel)",
   "language": "python",
   "name": "python3"
  },
  "language_info": {
   "codemirror_mode": {
    "name": "ipython",
    "version": 3
   },
   "file_extension": ".py",
   "mimetype": "text/x-python",
   "name": "python",
   "nbconvert_exporter": "python",
   "pygments_lexer": "ipython3",
   "version": "3.10.9"
  },
  "vscode": {
   "interpreter": {
    "hash": "3e3338d56a43a0108f5ff8ffc1915439f9812d920a0d5bf5d66e4a60c981234a"
   }
  }
 },
 "nbformat": 4,
 "nbformat_minor": 5
}

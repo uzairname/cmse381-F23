{
 "cells": [
  {
   "cell_type": "markdown",
   "metadata": {},
   "source": [
    "# Lab: Yes, Even More Linear Regression\n",
    "## CMSE 381 - Fall 2023\n",
    "## Lecture 8, Sep 16, 2023\n",
    "\n",
    "In the last few lectures, we have focused on linear regression, that is, fitting models of the form \n",
    "$$\n",
    "Y =  \\beta_0 +  \\beta_1 X_1 +  \\beta_2 X_2 + \\cdots +  \\beta_pX_p + \\varepsilon\n",
    "$$\n",
    "In this lab, we will continue to use two different tools for linear regression. \n",
    "- [Scikit learn](https://scikit-learn.org/stable/index.html) is arguably the most used tool for machine learning in python \n",
    "- [Statsmodels](https://www.statsmodels.org) provides many of the statisitcial tests we've been learning in class\n",
    "\n",
    "This lab will be a recap of what we covered in the last few lectures."
   ]
  },
  {
   "cell_type": "code",
   "execution_count": null,
   "metadata": {},
   "outputs": [],
   "source": [
    "# As always, we start with our favorite standard imports. \n",
    "\n",
    "import numpy as np\n",
    "import pandas as pd\n",
    "import matplotlib.pyplot as plt \n",
    "%matplotlib inline\n",
    "import seaborn as sns\n",
    "import statsmodels.formula.api as smf"
   ]
  },
  {
   "cell_type": "markdown",
   "metadata": {},
   "source": [
    "## Let's look back on our college data set:"
   ]
  },
  {
   "cell_type": "code",
   "execution_count": null,
   "metadata": {},
   "outputs": [],
   "source": [
    "college_df = pd.read_csv('College.csv')\n",
    "college_df = college_df.rename({'Unnamed: 0': 'College'}, axis=1)\n",
    "college_df = college_df.set_index('College')\n",
    "#Renaming for later, smf was getting angry by the periods in the coulmn names\n",
    "college_df = college_df.rename(columns={'S.F.Ratio': 'SFRatio', 'Grad.Rate': 'GradRate'})\n",
    "college_df.head()\n"
   ]
  },
  {
   "cell_type": "markdown",
   "metadata": {},
   "source": [
    "## Out of state tuition and Private schools\n",
    "\n",
    "Remember in the homework how we made boxplots of the out of state tuition for private and public schools? We're going to now use linear regression to see if there is statistical evidence of a difference in the out of state tuition between private and public schools.\n",
    "\n",
    "Let's first ask ourselves some questions:\n",
    "\n",
    "&#9989; **<font color=red>Q:</font>**\n",
    "- What is the response?\n",
    "- What is the predictor?\n",
    "- What is the model?\n",
    "- What is the null hypothesis?"
   ]
  },
  {
   "cell_type": "code",
   "execution_count": null,
   "metadata": {},
   "outputs": [],
   "source": [
    "#for memory purposes, here's the boxplot\n",
    "college_df.boxplot('Outstate', by='Private')"
   ]
  },
  {
   "cell_type": "markdown",
   "metadata": {},
   "source": [
    "&#9989; **<font color=red>Do now:</font>** Use `smf.ols` to fit the model and print out the summary. Remember we learned a shortcut for this in the last lecture notebook."
   ]
  },
  {
   "cell_type": "code",
   "execution_count": null,
   "metadata": {},
   "outputs": [],
   "source": [
    "#your code here"
   ]
  },
  {
   "cell_type": "markdown",
   "metadata": {},
   "source": [
    "Now that we have some results, let's interpret them.\n",
    "\n",
    "&#9989; **<font color=red>Q:</font>**\n",
    "- What is the equation of the line?\n",
    "- Do we have evidence to reject the null hypothesis? Why or why not?\n",
    "- Based on your boxplot from the homework, are you surprised by the results?\n",
    "- What are the confidence intervals for $\\beta_0$ and $\\beta_1$?\n"
   ]
  },
  {
   "cell_type": "markdown",
   "metadata": {},
   "source": [
    "Let's now predict values for out of state tuition for private and non-private schools. We can still use the `smf` package to do this for us. Here's some code to run it below. As you can see, it likes a dictionary format."
   ]
  },
  {
   "cell_type": "code",
   "execution_count": null,
   "metadata": {},
   "outputs": [],
   "source": [
    "est.predict({'Private': ['Yes', 'No']})"
   ]
  },
  {
   "cell_type": "markdown",
   "metadata": {},
   "source": [
    "&#9989; **<font color=red>Q:</font>** Do these values make sense? Why or why not?"
   ]
  },
  {
   "cell_type": "markdown",
   "metadata": {},
   "source": [
    "## Out of state tuition and more variables\n",
    "\n",
    "&#9989; **<font color=red>Q:</font>** What are the coefficients for this model:\n",
    "$y = \\beta_0 + \\beta_1 X_{private} + \\beta_2 X_{Top10perc} + \\beta_3 X_{SFRatio} + \\beta_4 X_{GradRate}$?\n"
   ]
  },
  {
   "cell_type": "code",
   "execution_count": null,
   "metadata": {},
   "outputs": [],
   "source": [
    "#write your code here"
   ]
  },
  {
   "cell_type": "markdown",
   "metadata": {},
   "source": [
    "&#9989; **<font color=red>Q:</font>** Does the coefficient for $X_{private}$ change when we add more predictors variables, compared to when it was the only predictor? Why or why not?\n",
    "\n"
   ]
  },
  {
   "cell_type": "markdown",
   "metadata": {},
   "source": [
    "&#9989; **<font color=red>Q:</font>** Are we confident that at least one of the predictors is associated with the response? Why or why not?\n"
   ]
  },
  {
   "cell_type": "markdown",
   "metadata": {},
   "source": [
    "&#9989; **<font color=red>Q:</font>** What is our prediction for out of state tuition at a private school with 20% of the students from the top 10% of their high school class, a student faculty ratio of 15, and a graduation rate of 75%?"
   ]
  },
  {
   "cell_type": "code",
   "execution_count": null,
   "metadata": {},
   "outputs": [],
   "source": [
    "#your code here"
   ]
  },
  {
   "cell_type": "markdown",
   "metadata": {},
   "source": [
    "&#9989; **<font color=red>Q:</font>** Find the RSS and Rsquared values for estimating out of state tuition using just the private variable and then using private, top10perc, SFRatio, and GradRate. Use `.ssr` and `.rsquared` respectively after fitting the model. What do you notice?"
   ]
  },
  {
   "cell_type": "code",
   "execution_count": null,
   "metadata": {},
   "outputs": [],
   "source": [
    "#your code here"
   ]
  },
  {
   "cell_type": "markdown",
   "metadata": {},
   "source": [
    "## Interaction Terms\n",
    "\n",
    "What happens if we add an interaction term between Top10perc and GradRate? Fit the model and look at the RSS and Rsquared results."
   ]
  },
  {
   "cell_type": "markdown",
   "metadata": {},
   "source": [
    "&#9989; **<font color=red>Do now:</font>** Add a new column to the college dataframe that is the product of SFRatio and GradRate. Then fit two models: one with predictor variables SFRatio and GradRate, and one with predictor variables SFRatio, GradRate AND your new column.\n",
    "\n",
    "&#9989; **<font color=red>Q:</font>** What are the RSS and Rsquared values for the two models? What do you notice?"
   ]
  },
  {
   "cell_type": "code",
   "execution_count": null,
   "metadata": {},
   "outputs": [],
   "source": [
    "#your code here"
   ]
  },
  {
   "cell_type": "code",
   "execution_count": null,
   "metadata": {},
   "outputs": [],
   "source": [
    "print(est.ssr)\n",
    "print(est.rsquared)"
   ]
  },
  {
   "cell_type": "markdown",
   "metadata": {},
   "source": [
    "Looks like the interaction term made a difference! But what's going on with the SFRatio p value? \n",
    "\n",
    "&#9989; **<font color=red>Do now:</font>** Check out the summary table if you haven't already."
   ]
  },
  {
   "cell_type": "markdown",
   "metadata": {},
   "source": [
    "&#9989; **<font color=red>Q:</font>** Does this mean we should throw out the SFRatio variable? What principle does this point to?"
   ]
  },
  {
   "cell_type": "markdown",
   "metadata": {},
   "source": [
    "## Keep exploring!\n",
    "Use any remaining time to build more models with some of the other columns we haven't used yet. Keep track of what you try and write a brief summary of what you found."
   ]
  },
  {
   "cell_type": "markdown",
   "metadata": {},
   "source": [
    "\n",
    "-----\n",
    "### Congratulations, we're done!"
   ]
  },
  {
   "cell_type": "markdown",
   "metadata": {},
   "source": [
    "Written by Rachel Roca, Michigan State University\n",
    "<a rel=\"license\" href=\"http://creativecommons.org/licenses/by-nc/4.0/\"><img alt=\"Creative Commons License\" style=\"border-width:0\" src=\"https://i.creativecommons.org/l/by-nc/4.0/88x31.png\" /></a><br />This work is licensed under a <a rel=\"license\" href=\"http://creativecommons.org/licenses/by-nc/4.0/\">Creative Commons Attribution-NonCommercial 4.0 International License</a>."
   ]
  },
  {
   "cell_type": "markdown",
   "metadata": {},
   "source": []
  },
  {
   "cell_type": "code",
   "execution_count": null,
   "metadata": {},
   "outputs": [],
   "source": []
  }
 ],
 "metadata": {
  "kernelspec": {
   "display_name": "Python 3 (ipykernel)",
   "language": "python",
   "name": "python3"
  },
  "language_info": {
   "codemirror_mode": {
    "name": "ipython",
    "version": 3
   },
   "file_extension": ".py",
   "mimetype": "text/x-python",
   "name": "python",
   "nbconvert_exporter": "python",
   "pygments_lexer": "ipython3",
   "version": "3.10.9"
  }
 },
 "nbformat": 4,
 "nbformat_minor": 2
}

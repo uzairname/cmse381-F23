{
 "cells": [
  {
   "cell_type": "markdown",
   "id": "4dfd68f5",
   "metadata": {},
   "source": [
    "# Lec 23 - Step Functions\n",
    "## CMSE 381 - Fall 2023\n",
    "## Nov 3, 2023\n",
    "\n"
   ]
  },
  {
   "cell_type": "markdown",
   "id": "c90aa0b0",
   "metadata": {},
   "source": [
    "We're going to try again with the step functions."
   ]
  },
  {
   "cell_type": "code",
   "execution_count": null,
   "id": "4ea3a4b4",
   "metadata": {},
   "outputs": [],
   "source": [
    "# Everyone's favorite standard imports\n",
    "import numpy as np\n",
    "import pandas as pd\n",
    "import matplotlib.pyplot as plt\n",
    "%matplotlib inline\n",
    "import time\n",
    "\n",
    "\n",
    "# ML imports we've used previously\n",
    "from sklearn.model_selection import train_test_split\n",
    "from sklearn.metrics import mean_squared_error\n",
    "from sklearn.linear_model import LinearRegression\n",
    "\n",
    "import statsmodels.api as sm\n"
   ]
  },
  {
   "cell_type": "markdown",
   "id": "81f9a257",
   "metadata": {},
   "source": [
    "# 0. Loading in the data\n",
    "\n",
    "We're going to use the `Wage` data used in the book, so note that many of your plots can be checked by looking at figures in the book."
   ]
  },
  {
   "cell_type": "code",
   "execution_count": null,
   "id": "3ceeb83a",
   "metadata": {},
   "outputs": [],
   "source": [
    "df = pd.read_csv('../../DataSets/Wage.csv', index_col =0 )\n",
    "df.head()"
   ]
  },
  {
   "cell_type": "code",
   "execution_count": null,
   "id": "903ebb82",
   "metadata": {},
   "outputs": [],
   "source": [
    "df.info()"
   ]
  },
  {
   "cell_type": "code",
   "execution_count": null,
   "id": "1bc159e5",
   "metadata": {},
   "outputs": [],
   "source": [
    "df.describe()"
   ]
  },
  {
   "cell_type": "markdown",
   "id": "68b20448",
   "metadata": {},
   "source": [
    "Here's the plot we used multiple times in class to look at a single variable:  `age` vs `wage`"
   ]
  },
  {
   "cell_type": "code",
   "execution_count": null,
   "id": "b90464f2",
   "metadata": {},
   "outputs": [],
   "source": [
    "plt.scatter(df.age[df.wage <=250], df.wage[df.wage<=250],marker = '*', label = '< 250')\n",
    "plt.scatter(df.age[df.wage >250], df.wage[df.wage>250], label = '> 250')\n",
    "plt.legend()\n",
    "\n",
    "plt.xlabel('Age')\n",
    "plt.ylabel('Wage')"
   ]
  },
  {
   "cell_type": "markdown",
   "id": "89fcc6df",
   "metadata": {},
   "source": [
    "# 1. Step functions\n",
    "\n",
    "Now let's try to use step functions to learn a model using `age` to predict `wage`. Like with the polynomial example from last time, all we're going to do is build a data frame or feature matrix that has the step function values in each column, and then pass that matrix to our favorite linear modeling function. \n",
    "\n",
    "First, we want to get a dataframe with the cuts. The `right = False` bit says whether I want the bins to include the right endpoint in the interval. This means our bins end up as $[c_i,c_{i+1})$ which follows the notation in the book."
   ]
  },
  {
   "cell_type": "code",
   "execution_count": null,
   "id": "fb65c7d9",
   "metadata": {},
   "outputs": [],
   "source": [
    "df_cut, bins = pd.cut(df.age, 4, \n",
    "                      retbins = True, #<---- Says I want it to return the bins (aka the knots)\n",
    "                      right = False) "
   ]
  },
  {
   "cell_type": "markdown",
   "id": "837d318b",
   "metadata": {},
   "source": [
    "I will define the entries in the bins to be the $c_i$'s as follows. \n"
   ]
  },
  {
   "cell_type": "code",
   "execution_count": null,
   "id": "11514f26",
   "metadata": {},
   "outputs": [],
   "source": [
    "print(bins)"
   ]
  },
  {
   "cell_type": "code",
   "execution_count": null,
   "id": "4fde5a8c",
   "metadata": {},
   "outputs": [],
   "source": [
    "print(r'c_1 = ', bins[0])\n",
    "print(r'c_2 = ', bins[1])\n",
    "print(r'c_3 = ', bins[2])\n",
    "print(r'c_4 = ', bins[3])\n",
    "print(r'c_5 = ', bins[4])"
   ]
  },
  {
   "cell_type": "markdown",
   "id": "cd24ddf0",
   "metadata": {},
   "source": [
    "&#9989; **<font color=red>Do this:</font>**\n",
    " For each of the functions $C_0(X)$, $C_1(X)$, $C_2(X)$, $C_3(X)$, $C_4(X)$, $C_5(X)$ (following our notation in class), determine the domains where they have value 1. "
   ]
  },
  {
   "cell_type": "markdown",
   "id": "9d69efb0",
   "metadata": {},
   "source": [
    "*Your answer here*\n",
    "\n",
    "- $C_0(X)$:\n",
    "- $C_1(X)$:\n",
    "- $C_2(X)$: \n",
    "- $C_3(X)$: \n",
    "- $C_4(X)$: \n",
    "- $C_5(X)$: "
   ]
  },
  {
   "cell_type": "markdown",
   "id": "000824fc",
   "metadata": {},
   "source": [
    "Below is my code that generates the data frame storing $C_i(X)$ for all our entries. "
   ]
  },
  {
   "cell_type": "code",
   "execution_count": null,
   "id": "e8e4bbe8",
   "metadata": {
    "scrolled": false
   },
   "outputs": [],
   "source": [
    "df_steps_dummies = pd.get_dummies(df_cut)\n",
    "df_steps_dummies.head()"
   ]
  },
  {
   "cell_type": "markdown",
   "id": "682d586b",
   "metadata": {},
   "source": [
    "&#9989; **<font color=red>Q:</font>** Which of the functions $C_i(X)$ for $i=0,\\cdots, 5$ have columns represented in this matrix? *Note: it's not all of them*\n"
   ]
  },
  {
   "cell_type": "markdown",
   "id": "db728a50",
   "metadata": {},
   "source": [
    "* Your answer here*"
   ]
  },
  {
   "cell_type": "markdown",
   "id": "a9998302",
   "metadata": {},
   "source": [
    "One annoying difference from the book is that because our code saw no data in the intervals $(-\\infty, 18]$ or  $[80.062,\\infty)$ interval, it doesn't make us a column for either of those. This is totally fine as long as later we don't ask our model to predict anything outside of the range $[18.0, 80.062)$ so for the remainder of the notebook, we'll make sure we don't try to pass it anything outside of those values. "
   ]
  },
  {
   "cell_type": "markdown",
   "id": "adcce1b7",
   "metadata": {},
   "source": [
    "&#9989; **<font color=red>Do this:</font>** Pass this matrix to a linear regression model and use it to predict `wage`. What is the equation for your learned model? Be specific in terms of the $C_i$ functions you learned earlier."
   ]
  },
  {
   "cell_type": "code",
   "execution_count": null,
   "id": "687737a7",
   "metadata": {},
   "outputs": [],
   "source": [
    "# Your code here #"
   ]
  },
  {
   "cell_type": "markdown",
   "id": "f7eaad17",
   "metadata": {},
   "source": [
    "Assuming you stored your linear regression model as `linreg`, the following code will plot the learned function. Check that the answers you got in the table above match with what you're seeing in the graph.  "
   ]
  },
  {
   "cell_type": "code",
   "execution_count": null,
   "id": "38d56358",
   "metadata": {},
   "outputs": [],
   "source": [
    "t = np.linspace(20,80,100) #<--- Remember my rule that I can't pass anything outisde\n",
    "                           #     of [18,80.02)\n",
    "\n",
    "bin_mapping = np.digitize(t, bins)\n",
    "\n",
    "# print(bin_mapping)\n",
    "t_dummies = pd.get_dummies(bin_mapping)\n",
    "t_dummies.head()"
   ]
  },
  {
   "cell_type": "code",
   "execution_count": null,
   "id": "a1be4bc6",
   "metadata": {
    "scrolled": false
   },
   "outputs": [],
   "source": [
    "stepPredict = linreg.predict(t_dummies) #<---- If you named your linear regression \n",
    "                                        #      something else, you can fix this to match.\n",
    "            \n",
    "#--------Uncomment below to draw the scatter plot of the data as well-------#\n",
    "# plt.scatter(df.age,df.wage,marker = '+')\n",
    "\n",
    "\n",
    "plt.xlabel('Age')\n",
    "plt.ylabel('Wage')\n",
    "\n",
    "plt.plot(t,stepPredict,color='red')"
   ]
  },
  {
   "cell_type": "markdown",
   "id": "959a8e3e",
   "metadata": {},
   "source": [
    "\n",
    "![Stop Icon](https://upload.wikimedia.org/wikipedia/commons/thumb/1/1e/Vienna_Convention_road_sign_B2a.svg/180px-Vienna_Convention_road_sign_B2a.svg.png)\n",
    "\n",
    "Great, you got to here! Hang out for a bit, there's more lecture before we go on to the next portion. "
   ]
  },
  {
   "cell_type": "markdown",
   "id": "5058b601",
   "metadata": {},
   "source": [
    "# 2.  Classification version of step functions\n",
    "\n",
    "Now we can try out the classification version of the problem. Let's build the classifier that predicts whether a person of a given age will make more than $250,000. You already made the matrix of step function features, so we just have to hand it to `LogisticRegression` to do its thing."
   ]
  },
  {
   "cell_type": "code",
   "execution_count": null,
   "id": "05b90132",
   "metadata": {},
   "outputs": [],
   "source": [
    "\n",
    "plt.scatter(df.age[df.wage <=250], df.wage[df.wage<=250],marker = '*')\n",
    "plt.scatter(df.age[df.wage >250], df.wage[df.wage>250])\n",
    "\n",
    "plt.xlabel('Age')\n",
    "plt.ylabel('Wage')\n",
    "\n",
    "# plt.savefig('WageColoredBy250.png', bbox_inches = 'tight')\n"
   ]
  },
  {
   "cell_type": "code",
   "execution_count": null,
   "id": "a6e271fc",
   "metadata": {},
   "outputs": [],
   "source": [
    "from sklearn.linear_model import LogisticRegression"
   ]
  },
  {
   "cell_type": "code",
   "execution_count": null,
   "id": "7ebeb7ee",
   "metadata": {},
   "outputs": [],
   "source": [
    "y = np.array(df.wage>250) #<--- this makes sure I \n",
    "                          #     just have true/false input\n",
    "clf = LogisticRegression(random_state=48824)\n",
    "clf.fit(df_steps_dummies,y)"
   ]
  },
  {
   "cell_type": "code",
   "execution_count": null,
   "id": "b8dc3ec7",
   "metadata": {},
   "outputs": [],
   "source": [
    "f = clf.predict_proba(t_dummies)"
   ]
  },
  {
   "cell_type": "code",
   "execution_count": null,
   "id": "d873bad6",
   "metadata": {},
   "outputs": [],
   "source": [
    "below = df.age[df.wage <=250]\n",
    "above = df.age[df.wage >250]\n",
    "\n",
    "# Comment this out to see the function better\n",
    "plt.scatter(above,np.ones(above.shape[0]),marker = '|', color = 'orange')\n",
    "plt.scatter(below,np.zeros(below.shape[0]),marker = '|', color = 'blue')\n",
    "\n",
    "\n",
    "\n",
    "plt.xlabel('Age')\n",
    "plt.ylabel('P[Wage >= 250]')\n",
    "plt.plot(t,f[:,1])"
   ]
  },
  {
   "cell_type": "markdown",
   "id": "66f79113",
   "metadata": {},
   "source": [
    "\n",
    "\n",
    "-----\n",
    "### Congratulations, we're done!\n",
    "Written by Dr. Liz Munch, Michigan State University\n",
    "\n",
    "<a rel=\"license\" href=\"http://creativecommons.org/licenses/by-nc/4.0/\"><img alt=\"Creative Commons License\" style=\"border-width:0\" src=\"https://i.creativecommons.org/l/by-nc/4.0/88x31.png\" /></a><br />This work is licensed under a <a rel=\"license\" href=\"http://creativecommons.org/licenses/by-nc/4.0/\">Creative Commons Attribution-NonCommercial 4.0 International License</a>."
   ]
  },
  {
   "cell_type": "code",
   "execution_count": null,
   "id": "3fb8354f",
   "metadata": {},
   "outputs": [],
   "source": []
  }
 ],
 "metadata": {
  "kernelspec": {
   "display_name": "Python 3 (ipykernel)",
   "language": "python",
   "name": "python3"
  },
  "language_info": {
   "codemirror_mode": {
    "name": "ipython",
    "version": 3
   },
   "file_extension": ".py",
   "mimetype": "text/x-python",
   "name": "python",
   "nbconvert_exporter": "python",
   "pygments_lexer": "ipython3",
   "version": "3.10.9"
  }
 },
 "nbformat": 4,
 "nbformat_minor": 5
}

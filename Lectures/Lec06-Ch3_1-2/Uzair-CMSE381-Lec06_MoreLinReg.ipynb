{
 "cells": [
  {
   "cell_type": "markdown",
   "metadata": {},
   "source": [
    "# Lab: Linear Regression\n",
    "## CMSE 381 - Fall 2022\n",
    "## Sep 14, 2022\n",
    "\n",
    "In the last few lectures, we have focused on linear regression, that is, fitting models of the form \n",
    "$$\n",
    "Y =  \\beta_0 +  \\beta_1 X_1 +  \\beta_2 X_2 + \\cdots +  \\beta_pX_p + \\varepsilon\n",
    "$$\n",
    "In this lab, we will continue to use two different tools for linear regression. \n",
    "- [Scikit learn](https://scikit-learn.org/stable/index.html) is arguably the most used tool for machine learning in python \n",
    "- [Statsmodels](https://www.statsmodels.org) provides many of the statisitcial tests we've been learning in class"
   ]
  },
  {
   "cell_type": "code",
   "execution_count": null,
   "metadata": {},
   "outputs": [],
   "source": [
    "# As always, we start with our favorite standard imports. \n",
    "\n",
    "import numpy as np\n",
    "import pandas as pd\n",
    "import matplotlib.pyplot as plt \n",
    "%matplotlib inline\n",
    "import seaborn as sns\n",
    "import statsmodels.formula.api as smf"
   ]
  },
  {
   "cell_type": "code",
   "execution_count": null,
   "metadata": {},
   "outputs": [],
   "source": [
    "# We're going to use the (fake) data set used in the beginning of the book. \n",
    "advertising_df = pd.read_csv('Advertising.csv', index_col = 0)\n",
    "advertising_df"
   ]
  },
  {
   "cell_type": "markdown",
   "metadata": {},
   "source": [
    "# Q1: Hypothesis Test\n",
    "\n",
    "&#9989; **<font color=red>Do this:</font>** Use the `statsmodels` package to fit the model \n",
    "$$\n",
    "\\texttt{Sales} = \\beta_0 + \\beta_1 \\cdot \\texttt{TV} + \\beta_2\\cdot \\texttt{Radio} + \\beta_3\\cdot \\texttt{Newspaper}\n",
    "$$\n",
    "What is the equation for the model learned? "
   ]
  },
  {
   "cell_type": "code",
   "execution_count": null,
   "metadata": {},
   "outputs": [],
   "source": [
    "# Your code here"
   ]
  },
  {
   "cell_type": "markdown",
   "metadata": {},
   "source": [
    "&#9989; **<font color=red>Do this:</font>** Use the `summary` command for the trained model class to determine the F-statistic for this model. \n",
    "- What are the null and alternative hypotheses for the test this statistic is used for? \n",
    "- What is your conclusion of the test given this F-score?"
   ]
  },
  {
   "cell_type": "markdown",
   "metadata": {},
   "source": [
    "![Stop Icon](https://upload.wikimedia.org/wikipedia/commons/thumb/1/1e/Vienna_Convention_road_sign_B2a.svg/180px-Vienna_Convention_road_sign_B2a.svg.png)\n",
    "\n",
    "Great, you got to here! Hang out for a bit, there's more lecture before we go on to the next portion. "
   ]
  },
  {
   "cell_type": "markdown",
   "metadata": {},
   "source": [
    "# Q2: Subsets of variables\n",
    "\n",
    "&#9989; **<font color=red>Q:</font>** List all 6 subsets of the three variables being used. "
   ]
  },
  {
   "cell_type": "markdown",
   "metadata": {},
   "source": [
    "*Your answer here*"
   ]
  },
  {
   "cell_type": "markdown",
   "metadata": {},
   "source": [
    "&#9989; **<font color=red>Do this:</font>** Below is a command to get the RSS for the statsmodel linear fit. For each of the subsets listed above, what is the RSS for the learned model? Which is smallest? "
   ]
  },
  {
   "cell_type": "code",
   "execution_count": null,
   "metadata": {},
   "outputs": [],
   "source": [
    "def statsmodelRSS(est):\n",
    "    # Returns the RSS for the statsmodel ols class\n",
    "    return np.sum(est.resid**2)"
   ]
  },
  {
   "cell_type": "markdown",
   "metadata": {},
   "source": [
    "![Stop Icon](https://upload.wikimedia.org/wikipedia/commons/thumb/1/1e/Vienna_Convention_road_sign_B2a.svg/180px-Vienna_Convention_road_sign_B2a.svg.png)\n",
    "\n",
    "Great, you got to here! Hang out for a bit, there's more lecture before we go on to the next portion. "
   ]
  },
  {
   "cell_type": "markdown",
   "metadata": {},
   "source": [
    "# Q3: How well does the model fit?\n",
    "\n",
    "This section talks about interpretation of $R^2$ and RSE, but is on slides only. "
   ]
  },
  {
   "cell_type": "markdown",
   "metadata": {},
   "source": [
    "# Q4: Making predictions\n",
    "\n"
   ]
  },
  {
   "cell_type": "code",
   "execution_count": null,
   "metadata": {},
   "outputs": [],
   "source": [
    "advertising_df = pd.read_csv('Advertising.csv', index_col = 0)\n",
    "# I need to sort the rows by TV to make plotting work better later \n",
    "advertising_df= advertising_df.sort_values(by=['TV'])\n",
    "advertising_df.head()"
   ]
  },
  {
   "cell_type": "code",
   "execution_count": null,
   "metadata": {},
   "outputs": [],
   "source": [
    "# I want to just learn Sales using TV\n",
    "est = smf.ols('Sales ~ TV', advertising_df).fit()\n",
    "est.params"
   ]
  },
  {
   "cell_type": "code",
   "execution_count": null,
   "metadata": {},
   "outputs": [],
   "source": [
    "# Here is a table giving us the CI and PI information \n",
    "# alpha = 0.1\n",
    "alpha = 0.05\n",
    "# alpha = 0.01\n",
    "# alpha = 0.001\n",
    "advert_summary = est.get_prediction(advertising_df).summary_frame(alpha=alpha)\n",
    "advert_summary.head()"
   ]
  },
  {
   "cell_type": "code",
   "execution_count": null,
   "metadata": {},
   "outputs": [],
   "source": [
    "# And here is some code that will draw these beasts for us....\n",
    "plt.rcParams['figure.figsize'] = [15, 15]\n",
    "plt.rcParams['font.size'] = 16\n",
    "\n",
    "\n",
    "x = advertising_df['TV']\n",
    "y = advertising_df['Sales']\n",
    "\n",
    "\n",
    "# Plot the original data \n",
    "plt.scatter(x,y, label = 'Data')\n",
    "\n",
    "# Plot the fitted values, AKA f_hat\n",
    "# you can get this in two different places, same answer\n",
    "# plt.plot(x,advert_summary['mean'], color = 'orange', label = 'f hat')\n",
    "plt.plot(x,est.fittedvalues, color = 'orange', label = 'f hat')\n",
    "\n",
    "\n",
    "\n",
    "plt.plot(x,advert_summary['obs_ci_lower'], 'r', lw=2, \n",
    "         label = r'Prediction Band')\n",
    "plt.plot(x,advert_summary['obs_ci_upper'], 'r', lw=2)\n",
    "\n",
    "plt.plot(x, advert_summary['mean_ci_lower'],'g--', lw=1, \n",
    "         label = r'Confidence Region')\n",
    "plt.plot(x, advert_summary['mean_ci_upper'], 'g--', lw=1)\n",
    "\n",
    "plt.title('Alpha = '+ str(alpha))\n",
    "\n",
    "\n",
    "\n",
    "plt.legend()"
   ]
  },
  {
   "cell_type": "markdown",
   "metadata": {},
   "source": [
    "\n",
    "\n",
    "-----\n",
    "### Congratulations, we're done!"
   ]
  },
  {
   "cell_type": "markdown",
   "metadata": {},
   "source": [
    "Written by Dr. Liz Munch, Michigan State University\n",
    "<a rel=\"license\" href=\"http://creativecommons.org/licenses/by-nc/4.0/\"><img alt=\"Creative Commons License\" style=\"border-width:0\" src=\"https://i.creativecommons.org/l/by-nc/4.0/88x31.png\" /></a><br />This work is licensed under a <a rel=\"license\" href=\"http://creativecommons.org/licenses/by-nc/4.0/\">Creative Commons Attribution-NonCommercial 4.0 International License</a>."
   ]
  },
  {
   "cell_type": "code",
   "execution_count": null,
   "metadata": {},
   "outputs": [],
   "source": []
  }
 ],
 "metadata": {
  "kernelspec": {
   "display_name": "Python 3 (ipykernel)",
   "language": "python",
   "name": "python3"
  },
  "language_info": {
   "codemirror_mode": {
    "name": "ipython",
    "version": 3
   },
   "file_extension": ".py",
   "mimetype": "text/x-python",
   "name": "python",
   "nbconvert_exporter": "python",
   "pygments_lexer": "ipython3",
   "version": "3.9.7"
  }
 },
 "nbformat": 4,
 "nbformat_minor": 2
}

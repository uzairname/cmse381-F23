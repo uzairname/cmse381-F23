{
 "cells": [
  {
   "cell_type": "markdown",
   "id": "4dfd68f5",
   "metadata": {},
   "source": [
    "# Lec 16: Boostrap Coding Portion\n",
    "## CMSE 381 - Fall 2023\n",
    "## Oct 11, 2023\n",
    "\n",
    "In this lab, we are going to follow along with the book to generate boostrap samples. \n",
    "\n",
    "While `sklearn` does have a method called [`Bootstrap`](https://ogrisel.github.io/scikit-learn.org/sklearn-tutorial/modules/generated/sklearn.cross_validation.Bootstrap.html), it doesn't quite do what we want in terms of the example from class.  So instead, we're going to use even simpler functions. "
   ]
  },
  {
   "cell_type": "code",
   "execution_count": 2,
   "id": "0db2ef7b",
   "metadata": {},
   "outputs": [
    {
     "name": "stdout",
     "output_type": "stream",
     "text": [
      "Collecting seaborn\n",
      "  Downloading seaborn-0.13.0-py3-none-any.whl (294 kB)\n",
      "     -------------------------------------- 294.6/294.6 kB 6.0 MB/s eta 0:00:00\n",
      "Requirement already satisfied: numpy!=1.24.0,>=1.20 in c:\\users\\uzair\\documents\\jupyter notebooks\\venv\\lib\\site-packages (from seaborn) (1.24.1)\n",
      "Requirement already satisfied: matplotlib!=3.6.1,>=3.3 in c:\\users\\uzair\\documents\\jupyter notebooks\\venv\\lib\\site-packages (from seaborn) (3.6.3)\n",
      "Requirement already satisfied: pandas>=1.2 in c:\\users\\uzair\\documents\\jupyter notebooks\\venv\\lib\\site-packages (from seaborn) (1.5.3)\n",
      "Requirement already satisfied: pillow>=6.2.0 in c:\\users\\uzair\\documents\\jupyter notebooks\\venv\\lib\\site-packages (from matplotlib!=3.6.1,>=3.3->seaborn) (9.4.0)\n",
      "Requirement already satisfied: cycler>=0.10 in c:\\users\\uzair\\documents\\jupyter notebooks\\venv\\lib\\site-packages (from matplotlib!=3.6.1,>=3.3->seaborn) (0.11.0)\n",
      "Requirement already satisfied: packaging>=20.0 in c:\\users\\uzair\\documents\\jupyter notebooks\\venv\\lib\\site-packages (from matplotlib!=3.6.1,>=3.3->seaborn) (23.0)\n",
      "Requirement already satisfied: pyparsing>=2.2.1 in c:\\users\\uzair\\documents\\jupyter notebooks\\venv\\lib\\site-packages (from matplotlib!=3.6.1,>=3.3->seaborn) (3.0.9)\n",
      "Requirement already satisfied: fonttools>=4.22.0 in c:\\users\\uzair\\documents\\jupyter notebooks\\venv\\lib\\site-packages (from matplotlib!=3.6.1,>=3.3->seaborn) (4.38.0)\n",
      "Requirement already satisfied: kiwisolver>=1.0.1 in c:\\users\\uzair\\documents\\jupyter notebooks\\venv\\lib\\site-packages (from matplotlib!=3.6.1,>=3.3->seaborn) (1.4.4)\n",
      "Requirement already satisfied: contourpy>=1.0.1 in c:\\users\\uzair\\documents\\jupyter notebooks\\venv\\lib\\site-packages (from matplotlib!=3.6.1,>=3.3->seaborn) (1.0.7)\n",
      "Requirement already satisfied: python-dateutil>=2.7 in c:\\users\\uzair\\documents\\jupyter notebooks\\venv\\lib\\site-packages (from matplotlib!=3.6.1,>=3.3->seaborn) (2.8.2)\n",
      "Requirement already satisfied: pytz>=2020.1 in c:\\users\\uzair\\documents\\jupyter notebooks\\venv\\lib\\site-packages (from pandas>=1.2->seaborn) (2022.7.1)\n",
      "Requirement already satisfied: six>=1.5 in c:\\users\\uzair\\documents\\jupyter notebooks\\venv\\lib\\site-packages (from python-dateutil>=2.7->matplotlib!=3.6.1,>=3.3->seaborn) (1.16.0)\n",
      "Installing collected packages: seaborn\n",
      "Successfully installed seaborn-0.13.0\n"
     ]
    },
    {
     "name": "stderr",
     "output_type": "stream",
     "text": [
      "\n",
      "[notice] A new release of pip available: 22.3.1 -> 23.2.1\n",
      "[notice] To update, run: python.exe -m pip install --upgrade pip\n"
     ]
    }
   ],
   "source": [
    "!pip install seaborn"
   ]
  },
  {
   "cell_type": "code",
   "execution_count": 22,
   "id": "4ea3a4b4",
   "metadata": {},
   "outputs": [],
   "source": [
    "# Everyone's favorite standard imports\n",
    "import numpy as np\n",
    "import pandas as pd\n",
    "import matplotlib.pyplot as plt\n",
    "import seaborn as sns\n",
    "%matplotlib inline"
   ]
  },
  {
   "cell_type": "markdown",
   "id": "c6395975",
   "metadata": {},
   "source": [
    "# 0. Generating data sets \n",
    "\n",
    "Below is some code that generates the data sets as described in Ch 5.2. Specifically, we wish to invest a fixed sum of money in two financial assets that yield returns of $X$ and $Y$, respectively, where $X$ and $Y$ are random quantities. \n",
    "\n",
    "We will invest a fraction $\\alpha$ of our money in $X$, and will invest the remaining $(1-\\alpha)$ in $Y$."
   ]
  },
  {
   "cell_type": "code",
   "execution_count": 23,
   "id": "e5a4e958",
   "metadata": {},
   "outputs": [
    {
     "data": {
      "text/html": [
       "<div>\n",
       "<style scoped>\n",
       "    .dataframe tbody tr th:only-of-type {\n",
       "        vertical-align: middle;\n",
       "    }\n",
       "\n",
       "    .dataframe tbody tr th {\n",
       "        vertical-align: top;\n",
       "    }\n",
       "\n",
       "    .dataframe thead th {\n",
       "        text-align: right;\n",
       "    }\n",
       "</style>\n",
       "<table border=\"1\" class=\"dataframe\">\n",
       "  <thead>\n",
       "    <tr style=\"text-align: right;\">\n",
       "      <th></th>\n",
       "      <th>X</th>\n",
       "      <th>Y</th>\n",
       "    </tr>\n",
       "  </thead>\n",
       "  <tbody>\n",
       "    <tr>\n",
       "      <th>0</th>\n",
       "      <td>-0.306423</td>\n",
       "      <td>-0.567876</td>\n",
       "    </tr>\n",
       "    <tr>\n",
       "      <th>1</th>\n",
       "      <td>-1.447803</td>\n",
       "      <td>0.077964</td>\n",
       "    </tr>\n",
       "    <tr>\n",
       "      <th>2</th>\n",
       "      <td>0.328652</td>\n",
       "      <td>0.123879</td>\n",
       "    </tr>\n",
       "    <tr>\n",
       "      <th>3</th>\n",
       "      <td>-1.717033</td>\n",
       "      <td>-1.225487</td>\n",
       "    </tr>\n",
       "    <tr>\n",
       "      <th>4</th>\n",
       "      <td>0.036144</td>\n",
       "      <td>0.734641</td>\n",
       "    </tr>\n",
       "  </tbody>\n",
       "</table>\n",
       "</div>"
      ],
      "text/plain": [
       "          X         Y\n",
       "0 -0.306423 -0.567876\n",
       "1 -1.447803  0.077964\n",
       "2  0.328652  0.123879\n",
       "3 -1.717033 -1.225487\n",
       "4  0.036144  0.734641"
      ]
     },
     "execution_count": 23,
     "metadata": {},
     "output_type": "execute_result"
    }
   ],
   "source": [
    "# Note that every time you rerun this function, you will get a new random sample.\n",
    "def generatePortfolio(varX = 1, varY = 1.25,varXY = 0.5, seed = None):\n",
    "    cov = np.array(((varX, varXY), (varXY, varY)))\n",
    "\n",
    "    mean = (0,0)\n",
    "    \n",
    "    # This sets the seed if we don't want to generate a new data set each time\n",
    "    np.random.seed(seed)\n",
    "    \n",
    "    # This generates our random data\n",
    "    portfolio = np.random.multivariate_normal(mean, cov, (100))\n",
    "    \n",
    "    portfolio = pd.DataFrame(portfolio, columns = ['X', 'Y'])\n",
    "    return portfolio\n",
    "\n",
    "portfolio = generatePortfolio(seed = 42)\n",
    "portfolio.head()\n"
   ]
  },
  {
   "cell_type": "code",
   "execution_count": 24,
   "id": "dd3ea613",
   "metadata": {},
   "outputs": [
    {
     "data": {
      "text/plain": [
       "Text(0, 0.5, 'Y')"
      ]
     },
     "execution_count": 24,
     "metadata": {},
     "output_type": "execute_result"
    },
    {
     "data": {
      "image/png": "[encoded data removed]",
      "text/plain": [
       "<Figure size 640x480 with 1 Axes>"
      ]
     },
     "metadata": {},
     "output_type": "display_data"
    }
   ],
   "source": [
    "plt.scatter(portfolio.X, portfolio.Y)\n",
    "plt.xlabel('X')\n",
    "plt.ylabel('Y')"
   ]
  },
  {
   "cell_type": "markdown",
   "id": "7ca45b81",
   "metadata": {},
   "source": [
    "If I want to see how much money I'd make in each case based on a fixed alpha, I can color the points by the amount of income I would get if that pair of $X$ $Y$ values occured. "
   ]
  },
  {
   "cell_type": "code",
   "execution_count": 21,
   "id": "3c567e04",
   "metadata": {},
   "outputs": [
    {
     "data": {
      "text/plain": [
       "<matplotlib.colorbar.Colorbar at 0x1d24815ef50>"
      ]
     },
     "execution_count": 21,
     "metadata": {},
     "output_type": "execute_result"
    },
    {
     "data": {
      "image/png": "[encoded data removed]",
      "text/plain": [
       "<Figure size 640x480 with 2 Axes>"
      ]
     },
     "metadata": {},
     "output_type": "display_data"
    }
   ],
   "source": [
    "alpha = 0.2 #<----- Messing with this number, changes what percentage I invest\n",
    "            #       in each company. \n",
    "\n",
    "income = portfolio.X*alpha + (1-alpha)*portfolio.Y\n",
    "\n",
    "plt.scatter(portfolio.X, portfolio.Y, c = income, cmap = 'flare')\n",
    "plt.colorbar()"
   ]
  },
  {
   "cell_type": "markdown",
   "id": "0022f29e",
   "metadata": {},
   "source": [
    "**<font color=red>Warning:</font>**  I'm following the book in that they call the second column $Y$, but we're not doing a variable prediction with this data set. We just happen to have  labeled the outputs of our two companies $X$ and $Y$. "
   ]
  },
  {
   "cell_type": "markdown",
   "id": "fd2ddf15",
   "metadata": {},
   "source": [
    "# 1. Approximate $\\hat \\alpha$ with simulated data"
   ]
  },
  {
   "cell_type": "markdown",
   "id": "9e935545",
   "metadata": {},
   "source": [
    "We're assuming we're investing $\\alpha$ percent of our money in stock $X$ and $(1-\\alpha)$ percent of our money in stock $Y$. Our goal is to minimize the variance \n",
    "$$ \\mathrm{Var}(\\alpha X + (1-\\alpha)Y)$$\n",
    "\n",
    "In your homework, you will show that the variance is minimized when \n",
    "$$\n",
    "\\alpha = \\frac{\\sigma_Y^2 - \\sigma_{XY}}{\\sigma_X^2 + \\sigma_Y^2 - 2\\sigma_{XY}}\n",
    "$$"
   ]
  },
  {
   "cell_type": "markdown",
   "id": "2f55fcda",
   "metadata": {},
   "source": [
    "&#9989; **<font color=red>Do this:</font>** First, based on the parameters we used to simulate our data, determine the true value of $\\alpha$. *(Hint: You know what the answer should be from the slides, so make sure you can calculate it based on our inputs)*"
   ]
  },
  {
   "cell_type": "code",
   "execution_count": null,
   "id": "2f9421c1",
   "metadata": {},
   "outputs": [],
   "source": [
    "# Your code here"
   ]
  },
  {
   "cell_type": "markdown",
   "id": "1ae39d08",
   "metadata": {},
   "source": [
    "Next, we will figure out how to approximate $\\alpha$ using the computed covariance from our particular data set. We can find the values for variance and covariance for our simulated data in pandas' covariance matrix. "
   ]
  },
  {
   "cell_type": "code",
   "execution_count": 9,
   "id": "98e62c8e",
   "metadata": {},
   "outputs": [
    {
     "data": {
      "text/plain": [
       "0.29514327159096254"
      ]
     },
     "execution_count": 9,
     "metadata": {},
     "output_type": "execute_result"
    }
   ],
   "source": [
    "cov = portfolio.cov()\n",
    "\n"
   ]
  },
  {
   "cell_type": "markdown",
   "id": "fdf13d63",
   "metadata": {},
   "source": [
    "&#9989; **<font color=red>Do this:</font>** Edit the function `alpha_hat` below which takes in a data frame and returns the predicted $\\hat \\alpha$ using the equation above. Use your function on the entire data set to get an estimate $\\hat \\alpha$."
   ]
  },
  {
   "cell_type": "code",
   "execution_count": 46,
   "id": "7fa5262e",
   "metadata": {},
   "outputs": [
    {
     "data": {
      "text/plain": [
       "0.7068823045332099"
      ]
     },
     "execution_count": 46,
     "metadata": {},
     "output_type": "execute_result"
    }
   ],
   "source": [
    "def alpha_hat(df):\n",
    "\n",
    "    cov = df.cov()\n",
    "    return (cov.loc['Y', 'Y']**2-cov.loc['X', 'Y'])/(cov.loc['X','X']**2+cov.loc['Y','Y']**2-2*cov.loc['X','Y'])\n",
    "    \n",
    "\n",
    "alpha_hat(portfolio)"
   ]
  },
  {
   "cell_type": "markdown",
   "id": "93bd2df8",
   "metadata": {},
   "source": [
    "Now, if your `alpha_hat` code is working, the following loop will generate 1000 data sets, calculate $\\hat \\alpha$ for each, and draw a histogram of the result. "
   ]
  },
  {
   "cell_type": "code",
   "execution_count": 26,
   "id": "da195755",
   "metadata": {},
   "outputs": [
    {
     "name": "stdout",
     "output_type": "stream",
     "text": [
      "Mean: 1.3\n",
      "StDev: 0.49\n"
     ]
    },
    {
     "data": {
      "text/plain": [
       "(array([  7.,  69., 251., 320., 217.,  94.,  33.,   4.,   4.,   1.]),\n",
       " array([-0.11563161,  0.27466117,  0.66495395,  1.05524673,  1.44553951,\n",
       "         1.8358323 ,  2.22612508,  2.61641786,  3.00671064,  3.39700342,\n",
       "         3.7872962 ]),\n",
       " <BarContainer object of 10 artists>)"
      ]
     },
     "execution_count": 26,
     "metadata": {},
     "output_type": "execute_result"
    },
    {
     "data": {
      "image/png": "[encoded data removed]",
      "text/plain": [
       "<Figure size 640x480 with 1 Axes>"
      ]
     },
     "metadata": {},
     "output_type": "display_data"
    }
   ],
   "source": [
    "allAlphas = [] \n",
    "for i in range (1000):\n",
    "    \n",
    "    # Resimualte a new portfolio data set. Because I'm not passing \n",
    "    # in a seed, I get a new portfolio data set every time. \n",
    "    portfolio = generatePortfolio()\n",
    "    \n",
    "    # Compute the alpha_hat and append it to my list\n",
    "    allAlphas.append(alpha_hat(portfolio))\n",
    "    \n",
    "print('Mean:', round(np.mean(allAlphas),2))\n",
    "print('StDev:', round(np.std(allAlphas),2))\n",
    "\n",
    "    \n",
    "plt.hist(allAlphas)"
   ]
  },
  {
   "cell_type": "markdown",
   "id": "045aa8df",
   "metadata": {},
   "source": [
    "\n",
    "![Stop Icon](https://upload.wikimedia.org/wikipedia/commons/thumb/1/1e/Vienna_Convention_road_sign_B2a.svg/180px-Vienna_Convention_road_sign_B2a.svg.png)\n",
    "\n",
    "Great, you got to here! Hang out for a bit, there's more lecture before we go on to the next portion. "
   ]
  },
  {
   "cell_type": "markdown",
   "id": "4f2012e0",
   "metadata": {},
   "source": [
    "# 2. Resampling data \n",
    "\n",
    "Ok, so normally we don't have access to those original parameters to figure out what $\\alpha$ actually should be, nor do we have the ability to simulate data for ourselves. So, the answer is the boostrap!\n",
    "\n",
    "First, we get our data set. **<font color=red>Note</font>**: For the rest of this exercise, I pretend that I am not allowed to simulate anything. I was just handed this data set and it's all I get to work with. "
   ]
  },
  {
   "cell_type": "code",
   "execution_count": 27,
   "id": "60a83fc1",
   "metadata": {},
   "outputs": [
    {
     "data": {
      "text/plain": [
       "<matplotlib.collections.PathCollection at 0x1d2483cff70>"
      ]
     },
     "execution_count": 27,
     "metadata": {},
     "output_type": "execute_result"
    },
    {
     "data": {
      "image/png": "[encoded data removed]",
      "text/plain": [
       "<Figure size 640x480 with 1 Axes>"
      ]
     },
     "metadata": {},
     "output_type": "display_data"
    }
   ],
   "source": [
    "portfolio = generatePortfolio(seed = 0)\n",
    "plt.scatter(portfolio.X, portfolio.Y)"
   ]
  },
  {
   "cell_type": "markdown",
   "id": "0c8d711d",
   "metadata": {},
   "source": [
    "The main thing we need to do is to sample our data set with replacement, which we can do with the `sample` function built into the data frame. In this function, `frac=1` means that we use 100% of our data (so we end up with $n$ samples from our original $n$ data points), and `replace=True` means we get to pick points with replacement "
   ]
  },
  {
   "cell_type": "code",
   "execution_count": 47,
   "id": "e8bf7b11",
   "metadata": {},
   "outputs": [
    {
     "name": "stdout",
     "output_type": "stream",
     "text": [
      "Notice that the `samp_port` dataframe has 100 rows.\n",
      "Length of samp_port: 100\n",
      "\n",
      "but if we get rid of duplicates we have less \n",
      "than 100 data points represented.\n",
      "Length of samp_port without duplicates: 66\n"
     ]
    },
    {
     "data": {
      "text/html": [
       "<div>\n",
       "<style scoped>\n",
       "    .dataframe tbody tr th:only-of-type {\n",
       "        vertical-align: middle;\n",
       "    }\n",
       "\n",
       "    .dataframe tbody tr th {\n",
       "        vertical-align: top;\n",
       "    }\n",
       "\n",
       "    .dataframe thead th {\n",
       "        text-align: right;\n",
       "    }\n",
       "</style>\n",
       "<table border=\"1\" class=\"dataframe\">\n",
       "  <thead>\n",
       "    <tr style=\"text-align: right;\">\n",
       "      <th></th>\n",
       "      <th>X</th>\n",
       "      <th>Y</th>\n",
       "    </tr>\n",
       "  </thead>\n",
       "  <tbody>\n",
       "    <tr>\n",
       "      <th>37</th>\n",
       "      <td>0.104313</td>\n",
       "      <td>-0.735221</td>\n",
       "    </tr>\n",
       "    <tr>\n",
       "      <th>60</th>\n",
       "      <td>0.379884</td>\n",
       "      <td>-0.908269</td>\n",
       "    </tr>\n",
       "    <tr>\n",
       "      <th>0</th>\n",
       "      <td>-1.636697</td>\n",
       "      <td>-1.588562</td>\n",
       "    </tr>\n",
       "    <tr>\n",
       "      <th>83</th>\n",
       "      <td>1.739046</td>\n",
       "      <td>0.267471</td>\n",
       "    </tr>\n",
       "    <tr>\n",
       "      <th>82</th>\n",
       "      <td>0.446264</td>\n",
       "      <td>1.642811</td>\n",
       "    </tr>\n",
       "  </tbody>\n",
       "</table>\n",
       "</div>"
      ],
      "text/plain": [
       "           X         Y\n",
       "37  0.104313 -0.735221\n",
       "60  0.379884 -0.908269\n",
       "0  -1.636697 -1.588562\n",
       "83  1.739046  0.267471\n",
       "82  0.446264  1.642811"
      ]
     },
     "execution_count": 47,
     "metadata": {},
     "output_type": "execute_result"
    }
   ],
   "source": [
    "samp_port = portfolio.sample(frac=1,replace=True)\n",
    "\n",
    "print('Notice that the `samp_port` dataframe has 100 rows.')\n",
    "print('Length of samp_port:', len(samp_port.index))\n",
    "\n",
    "print('\\nbut if we get rid of duplicates we have less \\nthan 100 data points represented.')\n",
    "print('Length of samp_port without duplicates:', len(set(samp_port.index)))\n",
    "samp_port.head()"
   ]
  },
  {
   "cell_type": "markdown",
   "id": "359f2903",
   "metadata": {},
   "source": [
    "&#9989; **<font color=red>Do this:</font>** Repeat the following procedure 1000 times:\n",
    "- Generate a new sample of your `portfolio` data set (Note: DO NOT resimulate your portfolio data set)\n",
    "- Use your `alpha_hat` function from above to compute $\\hat \\alpha$ and keep it in your list\n",
    "\n",
    "Then, draw a histogram of the results. "
   ]
  },
  {
   "cell_type": "code",
   "execution_count": 49,
   "id": "1418918f",
   "metadata": {},
   "outputs": [
    {
     "name": "stdout",
     "output_type": "stream",
     "text": [
      "[0.7504939132134579, 0.6958921553759063, 0.6082037147653991, 0.6654904614160257, 0.7021698421399324, 0.8175729020818077, 0.7565944290477821, 0.6951972888861963, 0.7895830248007623, 0.8657134258096141]\n"
     ]
    },
    {
     "data": {
      "text/plain": [
       "(array([  7.,  18.,  57.,  92., 176., 212., 207., 160.,  59.,  12.]),\n",
       " array([0.2658816 , 0.34210979, 0.41833798, 0.49456617, 0.57079435,\n",
       "        0.64702254, 0.72325073, 0.79947892, 0.87570711, 0.9519353 ,\n",
       "        1.02816349]),\n",
       " <BarContainer object of 10 artists>)"
      ]
     },
     "execution_count": 49,
     "metadata": {},
     "output_type": "execute_result"
    },
    {
     "data": {
      "image/png": "[encoded data removed]",
      "text/plain": [
       "<Figure size 640x480 with 1 Axes>"
      ]
     },
     "metadata": {},
     "output_type": "display_data"
    }
   ],
   "source": [
    "alphahats = []\n",
    "B = 1000 #<---- maybe set this to 10 or so while you're debugging\n",
    "\n",
    "for i in range(B):\n",
    "    \n",
    "    sample = portfolio.sample(frac=1,replace=True)\n",
    "    alphahats.append(alpha_hat(sample))\n",
    "\n",
    "    pass\n",
    "\n",
    "# a printout for debugging\n",
    "print(alphahats[:10])\n",
    "\n",
    "plt.hist(alphahats)"
   ]
  },
  {
   "cell_type": "markdown",
   "id": "3fa75d25",
   "metadata": {},
   "source": [
    "The last thing to do is determine the error estimate. Eqn 5.8 in the book says that we can estimate the error using \n",
    "$$\n",
    "SE_B(\\hat \\alpha) = \\sqrt{ \\frac{1}{B-1}\n",
    "\t\\sum_{r=1}^B \\left(\n",
    "\t\\hat \\alpha^{*r} - \\frac{1}{B}\\sum_{r'=1}^B \\hat \\alpha^{*r'}\n",
    "\t\\right)^2\n",
    "\t}\n",
    "    $$\n",
    "where $\\hat \\alpha^{*i}$ is the $i$th prediction (AKA the $i$th entry in your `alphahats` list up there). "
   ]
  },
  {
   "cell_type": "markdown",
   "id": "7b550471",
   "metadata": {},
   "source": [
    "&#9989; **<font color=red>Do this:</font>** Use your `alphahats` list  to determine the standard error of $\\hat \\alpha$. "
   ]
  },
  {
   "cell_type": "code",
   "execution_count": null,
   "id": "42a747d0",
   "metadata": {},
   "outputs": [],
   "source": [
    "# Your code here\n",
    "\n",
    "\n"
   ]
  },
  {
   "cell_type": "code",
   "execution_count": null,
   "id": "b98e047f",
   "metadata": {},
   "outputs": [],
   "source": []
  },
  {
   "cell_type": "markdown",
   "id": "66f79113",
   "metadata": {},
   "source": [
    "\n",
    "\n",
    "-----\n",
    "### Congratulations, we're done!\n",
    "Written by Dr. Liz Munch, Michigan State University\n",
    "\n",
    "<a rel=\"license\" href=\"http://creativecommons.org/licenses/by-nc/4.0/\"><img alt=\"Creative Commons License\" style=\"border-width:0\" src=\"https://i.creativecommons.org/l/by-nc/4.0/88x31.png\" /></a><br />This work is licensed under a <a rel=\"license\" href=\"http://creativecommons.org/licenses/by-nc/4.0/\">Creative Commons Attribution-NonCommercial 4.0 International License</a>."
   ]
  },
  {
   "cell_type": "code",
   "execution_count": null,
   "id": "3fb8354f",
   "metadata": {},
   "outputs": [],
   "source": []
  }
 ],
 "metadata": {
  "kernelspec": {
   "display_name": "Python 3 (ipykernel)",
   "language": "python",
   "name": "python3"
  },
  "language_info": {
   "codemirror_mode": {
    "name": "ipython",
    "version": 3
   },
   "file_extension": ".py",
   "mimetype": "text/x-python",
   "name": "python",
   "nbconvert_exporter": "python",
   "pygments_lexer": "ipython3",
   "version": "3.10.4"
  },
  "vscode": {
   "interpreter": {
    "hash": "916dbcbb3f70747c44a77c7bcd40155683ae19c65e1c03b4aa3499c5328201f1"
   }
  }
 },
 "nbformat": 4,
 "nbformat_minor": 5
}

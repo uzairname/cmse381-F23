{
 "cells": [
  {
   "cell_type": "markdown",
   "id": "4dfd68f5",
   "metadata": {},
   "source": [
    "# $K$-Fold CV \n",
    "## CMSE 381 - Fall 2023\n",
    "## Oct 4,  2023. Lecture 13\n",
    "\n"
   ]
  },
  {
   "cell_type": "code",
   "execution_count": null,
   "id": "4ea3a4b4",
   "metadata": {},
   "outputs": [],
   "source": [
    "# Everyone's favorite standard imports\n",
    "import numpy as np\n",
    "import pandas as pd\n",
    "import matplotlib.pyplot as plt\n",
    "%matplotlib inline\n",
    "\n",
    "from sklearn.linear_model import LinearRegression\n",
    "from sklearn.metrics import mean_squared_error"
   ]
  },
  {
   "cell_type": "markdown",
   "id": "1a449eb2",
   "metadata": {},
   "source": [
    "Let's bring back the data set from last time!"
   ]
  },
  {
   "cell_type": "code",
   "execution_count": null,
   "id": "c1d50a11",
   "metadata": {},
   "outputs": [],
   "source": [
    "# Set the seed so everyone has the same numbers\n",
    "np.random.seed(42)\n",
    "\n",
    "def f(t, m = -3, b = 2):\n",
    "    return m*t+b\n",
    "\n",
    "n = 300\n",
    "X_toy = np.random.uniform(0,5,n)\n",
    "y_toy = f(X_toy) + np.random.normal(0,2,n)\n",
    "\n",
    "X_toy = X_toy.reshape(-1,1)\n",
    "y_toy = y_toy.reshape(-1,1)\n",
    "\n",
    "plt.scatter(X_toy,y_toy)\n",
    "plt.plot(X_toy,f(X_toy),c = 'red')"
   ]
  },
  {
   "cell_type": "markdown",
   "id": "7c223903",
   "metadata": {},
   "source": [
    "# 1. Roll your own $k$-fold\n",
    "\n",
    "Ok, let's try to get a handle on what this $k$-fold CV is doing with our data. To do that, we're going to build our own $k$-fold splitter before we use the provided tools in `scikitlearn`. Of course, this is not going to be optimized at all, the goal is just to figure out how the innards are working. "
   ]
  },
  {
   "cell_type": "markdown",
   "id": "8f204a38",
   "metadata": {},
   "source": [
    "Before we get too far, let's remember some python commands that I always forget until I have to use them. "
   ]
  },
  {
   "cell_type": "code",
   "execution_count": null,
   "id": "3d80c82a",
   "metadata": {},
   "outputs": [],
   "source": [
    "# This is the floor, which gives the whole part of the division, in this case 33/6.\n",
    "print(33 // 5) \n",
    "\n",
    "# The leftover part is the remainder after the division\n",
    "print(33 % 5) # Remainder\n",
    "\n",
    "# The way I always think about this is if you are interested in n/k, then \n",
    "# k*floor + remainder = n"
   ]
  },
  {
   "cell_type": "markdown",
   "id": "cad690b8",
   "metadata": {},
   "source": [
    "&#9989; **<font color=red>Do this:</font>** For our first example, let's say you have 12 data points and you want $k=4$ folds. How many data points will be in each fold?\n"
   ]
  },
  {
   "cell_type": "markdown",
   "id": "b3a1b6e8",
   "metadata": {},
   "source": [
    "*your answer here*"
   ]
  },
  {
   "cell_type": "markdown",
   "id": "3e119797",
   "metadata": {},
   "source": [
    "&#9989; **<font color=red>Do this:</font>** Below is the skeleton of code that will return the $k$-fold train/test splits. Update the code where noted to make it work. \n",
    "\n",
    "How do you check that your code is doing what you want? \n",
    "- Make sure you end up with $k$ splits \n",
    "- Make sure that each of the testing splits has $n/k$ data points\n",
    "- Make sure that the rest of the data points end up in the training set. \n",
    "- A good check is to see that you have all $n$ data points between the training and testing set every time."
   ]
  },
  {
   "cell_type": "code",
   "execution_count": null,
   "id": "cd37722e",
   "metadata": {},
   "outputs": [],
   "source": [
    "def mykfold(n,k):\n",
    "    # Input: integers n and k.\n",
    "    #        This version is only going to allow us to work with  \n",
    "    #        a $k$ that is actually divisible by $n$ \n",
    "    # Output: a list of the train/test splits to be used.\n",
    "    \n",
    "    # This command is just going to make a warning so that if you pass in \n",
    "    # n and k not divisble, the code will kick you out.     \n",
    "    assert (n % k == 0), \"k doesn't divide n, this code can't handle it\"\n",
    "    \n",
    "    # Make an array of the indices:\n",
    "    all_my_indices = np.array(range(n))\n",
    "    \n",
    "    \n",
    "    # First, shuffle your array to make sure we're working with randomized order.\n",
    "    # ----your code here to shuffle----# \n",
    "    \n",
    "    \n",
    "    # Write an equation that will figure out the length of each fold below\n",
    "    length_of_fold = np.nan #<----- fix this\n",
    "    \n",
    "    \n",
    "    # Now we're going to keep a list of all your splits. Modify the code below so that \n",
    "    # you can keep track of the training and testing splits.\n",
    "    AllSplits = []\n",
    "    for i in range(k):\n",
    "        \n",
    "        test_set = [] #<------ fix this\n",
    "        training_set = [] #<------ fix this, too\n",
    "        AllSplits.append({'train': training_set, 'test':test_set})\n",
    "    \n",
    "    return AllSplits\n",
    " \n",
    "n = 12\n",
    "k = 4\n",
    "mykfold(n,k)\n",
    "    "
   ]
  },
  {
   "cell_type": "markdown",
   "id": "c80c60f2",
   "metadata": {},
   "source": [
    "### Non-divisible version\n",
    "\n",
    "Ok, so the code above divides your data points into $k$ fold so long as $k$ divides $n$ evenly, but this isn't a reasonable assumption to make in practice. \n",
    "\n",
    "&#9989; **<font color=red>Q:</font>** If you have $n=14$ data points and $k=4$ folds, how many data points are in each of the folds to have them be as close to even as possible? (Note the answer isn't the same for every fold)."
   ]
  },
  {
   "cell_type": "markdown",
   "id": "cdc6e4c2",
   "metadata": {},
   "source": [
    "*Your answer here*"
   ]
  },
  {
   "cell_type": "markdown",
   "id": "bd263188",
   "metadata": {},
   "source": [
    "Now we are going to fix the code above to allow for $n$ not divisible by $k$. We want to take all the leftover data points from dividing the folds evenly and just add them to the first folds. Below is one way to figure out how long each fold should be in this more general case. "
   ]
  },
  {
   "cell_type": "code",
   "execution_count": null,
   "id": "ae5d2f4c",
   "metadata": {},
   "outputs": [],
   "source": [
    "n = 14\n",
    "k = 4\n",
    "\n",
    "length_of_each_fold = [n//k for i in range(k)]\n",
    "\n",
    "print('Fold lengths before fixing:', length_of_each_fold)\n",
    "print('Total data points used:', sum(length_of_each_fold))\n",
    "print('Leftover data points:', n-sum(length_of_each_fold))\n",
    "print('Should be the same as the remainder:', n%k)\n",
    "print('\\n')\n",
    "\n",
    "print('So we put all the leftovers in the piles one at a time:')\n",
    "for i in range(n % k):\n",
    "    length_of_each_fold[i]+=1\n",
    "    \n",
    "print(length_of_each_fold)\n",
    "print('And now the total number of points should be the same as n:')\n",
    "print(np.sum(length_of_each_fold))"
   ]
  },
  {
   "cell_type": "markdown",
   "id": "2a18b209",
   "metadata": {},
   "source": [
    "&#9989; **<font color=red>Do this:</font>** Copy your `mykfold` function down here.  Modify it so that it can accept $n$ and $k$ that aren't divisible. "
   ]
  },
  {
   "cell_type": "code",
   "execution_count": null,
   "id": "e13201ca",
   "metadata": {},
   "outputs": [],
   "source": [
    "# Your code here #\n",
    "\n",
    "n = 33\n",
    "k = 5\n",
    "mykfold(n,k)\n",
    "    "
   ]
  },
  {
   "cell_type": "markdown",
   "id": "d2dfc2fb",
   "metadata": {},
   "source": [
    "Ok, so now your code returns indicies kind of like the LOOCV code from last time. \n",
    "\n",
    "&#9989; **<font color=red>Do this:</font>** Set up a linear regression model for the toy data above, and use your train test split code to figure out the MSE for each, then return the average for your $CV_{(4)}$ score, where this means we want $k=4$ folds."
   ]
  },
  {
   "cell_type": "code",
   "execution_count": null,
   "id": "f53510d8",
   "metadata": {
    "scrolled": true
   },
   "outputs": [],
   "source": [
    "n = X_toy.shape[0]\n",
    "print(n)\n",
    "k = 3\n",
    "\n",
    "mySplits = mykfold(n,k)\n",
    "\n",
    "MSE = []\n",
    "for entry in mySplits:\n",
    "    train_index = entry['train']\n",
    "    test_index = entry['test']\n",
    "    print(\"TRAIN:\", train_index, \"\\nTEST:\", test_index, '\\n')\n",
    "\n",
    "    #Your code here!\n",
    "    \n",
    "print(np.average(MSE))"
   ]
  },
  {
   "cell_type": "markdown",
   "id": "6b754ee9",
   "metadata": {},
   "source": [
    "# 2. Letting scikitlearn do the work for us. \n",
    "\n",
    "Ok, now that we understand the innards, we can let `scikitlearn` do this for us."
   ]
  },
  {
   "cell_type": "code",
   "execution_count": null,
   "id": "bfca9a17",
   "metadata": {},
   "outputs": [],
   "source": [
    "from sklearn.model_selection import KFold\n",
    "\n",
    "kf = KFold(n_splits=3)\n",
    "\n",
    "# Notice that like the leave one out version, trying to print kf still doesn't \n",
    "# give us much that's useful\n",
    "print(kf)"
   ]
  },
  {
   "cell_type": "markdown",
   "id": "c055e743",
   "metadata": {},
   "source": [
    "We can see the splits by putting this generator into a for loop as follows."
   ]
  },
  {
   "cell_type": "code",
   "execution_count": null,
   "id": "1a9f1f40",
   "metadata": {
    "scrolled": true
   },
   "outputs": [],
   "source": [
    "for train_index, test_index in kf.split(X_toy):\n",
    "    print(\"TRAIN:\", train_index, \"\\nTEST:\", test_index, '\\n')\n",
    "    X_train, X_test = X_toy[train_index], X_toy[test_index]\n",
    "    y_train, y_test = y_toy[train_index], y_toy[test_index]"
   ]
  },
  {
   "cell_type": "markdown",
   "id": "efc13726",
   "metadata": {},
   "source": [
    "There is a BIG PROBLEM with this code.  We haven't done something!!! Something important!!!\n",
    "\n",
    "&#9989; **<font color=red>Q:</font>** What didn't we do? This is an easy fix, checkout the [documentation for `KFold`](https://scikit-learn.org/stable/modules/generated/sklearn.model_selection.KFold.html), then modify the code below to fix the problem. \n",
    "\n"
   ]
  },
  {
   "cell_type": "code",
   "execution_count": null,
   "id": "e42e4b46",
   "metadata": {
    "scrolled": true
   },
   "outputs": [],
   "source": [
    "# Fix this code! \n",
    "kf = KFold(n_splits=3)\n",
    "\n",
    "for train_index, test_index in kf.split(X_toy):\n",
    "    print(\"TRAIN:\", train_index, \"\\nTEST:\", test_index, '\\n')\n",
    "    X_train, X_test = X_toy[train_index], X_toy[test_index]\n",
    "    y_train, y_test = y_toy[train_index], y_toy[test_index]"
   ]
  },
  {
   "cell_type": "markdown",
   "id": "28087b23",
   "metadata": {},
   "source": [
    "Now that we have our train/test split generator set up, let's take a look at the result. Note that this is just going to color by the last split generated in that for loop up above. "
   ]
  },
  {
   "cell_type": "code",
   "execution_count": null,
   "id": "f269e617",
   "metadata": {},
   "outputs": [],
   "source": [
    "plt.scatter(X_train,y_train, marker = '+', label = \"Training\")\n",
    "plt.scatter(X_test,y_test, marker = '*', label = \"Testing\")\n",
    "plt.legend()"
   ]
  },
  {
   "cell_type": "markdown",
   "id": "9500f236",
   "metadata": {},
   "source": [
    "&#9989; **<font color=red>Q:</font>** Below is my code from last class to train our linear regression model, again just using that last train/test split. Fix this so that it uses every k-fold train/test split ($k=5$) and returns the average of the MSEs. \n"
   ]
  },
  {
   "cell_type": "code",
   "execution_count": null,
   "id": "12207e63",
   "metadata": {},
   "outputs": [],
   "source": [
    "# Your code goes here\n",
    "\n",
    "model = LinearRegression()\n",
    "model.fit(X_train,y_train)\n",
    "y_hat = model.predict(X_test.reshape(-1,1))\n",
    "\n",
    "mean_squared_error(y_hat,y_test)"
   ]
  },
  {
   "cell_type": "markdown",
   "id": "77c71b56",
   "metadata": {},
   "source": [
    "&#9989; **<font color=red>Q:</font>** What happens if you set `n_splits = n`? "
   ]
  },
  {
   "cell_type": "markdown",
   "id": "dc2a9004",
   "metadata": {},
   "source": [
    "*Your answer here*"
   ]
  },
  {
   "cell_type": "markdown",
   "id": "f5a7b629",
   "metadata": {},
   "source": [
    "### Easy mode\n",
    "\n",
    "As before, we can build all this work into a very compact code, which really is doing the same thing, just in a few lines. "
   ]
  },
  {
   "cell_type": "code",
   "execution_count": null,
   "id": "4b6d3d86",
   "metadata": {},
   "outputs": [],
   "source": [
    "# This command does all your work for you\n",
    "# Note this is the same command you used Monday for LOOCV\n",
    "from sklearn.model_selection import cross_val_score\n",
    "\n",
    "#build linear regression model\n",
    "model = LinearRegression()\n",
    "\n",
    "# Pick your CV method\n",
    "kf = KFold(n_splits=5, shuffle = True)\n",
    "\n",
    "#use 5-fold CV to evaluate model\n",
    "scores = cross_val_score(model, X_toy, y_toy, \n",
    "                         scoring='neg_mean_squared_error',\n",
    "                         cv=kf)\n",
    "\n",
    "#view mean absolute error\n",
    "np.average(np.absolute(scores))\n",
    "\n"
   ]
  },
  {
   "cell_type": "markdown",
   "id": "53fcf1e4",
   "metadata": {},
   "source": [
    "&#9989; **<font color=red>Q:</font>**\n",
    "- How do you change the above code to do $k$-fold CV for a different $k$?\n",
    "- You didn't get exactly the same value as you computed a few cells up. Why?"
   ]
  },
  {
   "cell_type": "markdown",
   "id": "66f79113",
   "metadata": {},
   "source": [
    "\n",
    "\n",
    "-----\n",
    "### Congratulations, we're done!\n",
    "Written by Dr. Liz Munch, Michigan State University\n",
    "\n",
    "<a rel=\"license\" href=\"http://creativecommons.org/licenses/by-nc/4.0/\"><img alt=\"Creative Commons License\" style=\"border-width:0\" src=\"https://i.creativecommons.org/l/by-nc/4.0/88x31.png\" /></a><br />This work is licensed under a <a rel=\"license\" href=\"http://creativecommons.org/licenses/by-nc/4.0/\">Creative Commons Attribution-NonCommercial 4.0 International License</a>."
   ]
  }
 ],
 "metadata": {
  "kernelspec": {
   "display_name": "Python 3 (ipykernel)",
   "language": "python",
   "name": "python3"
  },
  "language_info": {
   "codemirror_mode": {
    "name": "ipython",
    "version": 3
   },
   "file_extension": ".py",
   "mimetype": "text/x-python",
   "name": "python",
   "nbconvert_exporter": "python",
   "pygments_lexer": "ipython3",
   "version": "3.10.9"
  },
  "vscode": {
   "interpreter": {
    "hash": "3e3338d56a43a0108f5ff8ffc1915439f9812d920a0d5bf5d66e4a60c981234a"
   }
  }
 },
 "nbformat": 4,
 "nbformat_minor": 5
}

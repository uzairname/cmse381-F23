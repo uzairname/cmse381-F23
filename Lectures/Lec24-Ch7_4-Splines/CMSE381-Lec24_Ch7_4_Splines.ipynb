{
 "cells": [
  {
   "cell_type": "markdown",
   "id": "4dfd68f5",
   "metadata": {},
   "source": [
    "# Lecture 23: Cubic Splines\n",
    "## CMSE 381 - Spring 2023\n",
    "## Nov 6, 2023\n",
    "\n"
   ]
  },
  {
   "cell_type": "markdown",
   "id": "c90aa0b0",
   "metadata": {},
   "source": [
    "In this module we are going to implement cubic splines"
   ]
  },
  {
   "cell_type": "code",
   "execution_count": null,
   "id": "4ea3a4b4",
   "metadata": {},
   "outputs": [],
   "source": [
    "# Everyone's favorite standard imports\n",
    "import numpy as np\n",
    "import pandas as pd\n",
    "import matplotlib.pyplot as plt\n",
    "%matplotlib inline\n",
    "import time\n",
    "\n",
    "\n",
    "# ML imports we've used previously\n",
    "from sklearn.model_selection import train_test_split\n",
    "from sklearn.metrics import mean_squared_error\n",
    "from sklearn.linear_model import LinearRegression\n",
    "\n"
   ]
  },
  {
   "cell_type": "markdown",
   "id": "81f9a257",
   "metadata": {},
   "source": [
    "# Loading in the data\n",
    "\n",
    "We're going to use the `Wage` data used in the book, so note that many of your plots can be checked by looking at figures in the book."
   ]
  },
  {
   "cell_type": "code",
   "execution_count": null,
   "id": "3ceeb83a",
   "metadata": {},
   "outputs": [],
   "source": [
    "df = pd.read_csv('../../DataSets/Wage.csv', index_col =0 )\n",
    "df.head()"
   ]
  },
  {
   "cell_type": "code",
   "execution_count": null,
   "id": "903ebb82",
   "metadata": {},
   "outputs": [],
   "source": [
    "df.info()"
   ]
  },
  {
   "cell_type": "code",
   "execution_count": null,
   "id": "1bc159e5",
   "metadata": {},
   "outputs": [],
   "source": [
    "df.describe()"
   ]
  },
  {
   "cell_type": "markdown",
   "id": "68b20448",
   "metadata": {},
   "source": [
    "Here's the plot we used multiple times in class to look at a single variable:  `age` vs `wage`"
   ]
  },
  {
   "cell_type": "code",
   "execution_count": null,
   "id": "b90464f2",
   "metadata": {},
   "outputs": [],
   "source": [
    "plt.scatter(df.age,df.wage)\n",
    "plt.xlabel('Age')\n",
    "plt.ylabel('Wage')"
   ]
  },
  {
   "cell_type": "markdown",
   "id": "985478ed",
   "metadata": {},
   "source": [
    "# 1. Splines \n",
    "\n",
    "Before we get to the `wage` dataset, we'll build some simpler spline models. Let's start by playing with some toy data, making heavy use of the examples provided on the [scikitlearn spline page](https://scikit-learn.org/stable/auto_examples/linear_model/plot_polynomial_interpolation.html)."
   ]
  },
  {
   "cell_type": "code",
   "execution_count": null,
   "id": "0b0faaed",
   "metadata": {},
   "outputs": [],
   "source": [
    "# Note: this bit is going to use some packages that are newly \n",
    "# provided in sklearn 1.0.  If you're having issues, try uncommenting\n",
    "# and running the update line below.\n",
    "# %pip install --upgrade scikit-learn"
   ]
  },
  {
   "cell_type": "code",
   "execution_count": null,
   "id": "2d547563",
   "metadata": {},
   "outputs": [],
   "source": [
    "from sklearn.preprocessing import SplineTransformer\n",
    "from sklearn.pipeline import make_pipeline"
   ]
  },
  {
   "cell_type": "code",
   "execution_count": null,
   "id": "0333e639",
   "metadata": {
    "scrolled": false
   },
   "outputs": [],
   "source": [
    "# This code block is going to make us some nasty fake data \n",
    "# to try to find some sort of interpolation. \n",
    "\n",
    "def f(x):\n",
    "    \"\"\"Function to be approximated by polynomial interpolation.\"\"\"\n",
    "    return x * np.sin(x)\n",
    "\n",
    "\n",
    "# whole range we want to plot\n",
    "x_plot = np.linspace(-1, 11, 100)\n",
    "y_plot = f(x_plot)\n",
    "\n",
    "\n",
    "# Make some data.  Provide a small amount of points to make \n",
    "# our polynomials all kinds of wiggly.\n",
    "X = np.linspace(0, 10, 100)\n",
    "rng = np.random.RandomState(0)\n",
    "X = np.sort(rng.choice(X, size=20, replace=False))\n",
    "y = f(X)\n",
    "\n",
    "# # create 2D-array versions of these arrays to feed to transformers\n",
    "# X_train = x_train[:, np.newaxis]\n",
    "# X = X[:, np.newaxis]\n",
    "\n",
    "X = X.reshape(-1,1)\n",
    "y = y.reshape(-1,1)\n",
    "\n",
    "\n",
    "#====ploting======\n",
    "\n",
    "# plot function\n",
    "plt.plot(x_plot, y_plot,label=\"ground truth\")\n",
    "\n",
    "# plot training points\n",
    "plt.scatter(X, y, label=\"training points\")\n",
    "\n",
    "plt.legend()"
   ]
  },
  {
   "cell_type": "markdown",
   "id": "82abc236",
   "metadata": {},
   "source": [
    "Let's pretend you never saw that $f$ function I used to build the data, you're just handed these scattered data points and asked to learn a piecewise polynomial that fits it. "
   ]
  },
  {
   "cell_type": "code",
   "execution_count": null,
   "id": "6ec55015",
   "metadata": {},
   "outputs": [],
   "source": [
    "# plot training points\n",
    "plt.scatter(X, y, label=\"training points\")\n",
    "\n",
    "# Plots the axes\n",
    "plt.axhline(0, color=\"black\", alpha=0.3)\n",
    "plt.axvline(0, color=\"black\", alpha=0.3)\n",
    "\n",
    "plt.legend()"
   ]
  },
  {
   "cell_type": "markdown",
   "id": "b84026c2",
   "metadata": {},
   "source": [
    "The `SplineTransformer` sets up our basis functions for us. These are the functions that we are learning coefficients for when we are doing regression."
   ]
  },
  {
   "cell_type": "code",
   "execution_count": null,
   "id": "e65828ee",
   "metadata": {},
   "outputs": [],
   "source": [
    "# This sets up the spline transformer. The fit command is deciding where to put the knots\n",
    "splt = SplineTransformer(n_knots=4, degree=3).fit(X)\n",
    "\n",
    "print('The knots:')\n",
    "print(splt.bsplines_[0].t)\n",
    "\n",
    "\n",
    "#----Visualizing the knots-----#\n",
    "# Plots the axes\n",
    "plt.axhline(0, color=\"black\", alpha=0.3)\n",
    "plt.axvline(0, color=\"black\", alpha=0.3)\n",
    "# plots the original points\n",
    "plt.scatter(X, y, label=\"training points\")\n",
    "# Marks where the knots are as vertical lines\n",
    "knots = splt.bsplines_[0].t\n",
    "plt.vlines(knots[3:-3], ymin=-4, ymax=8, linestyles=\"dashed\")\n",
    "\n",
    "# Uncomment below if you want to see ALL the knots, see note below.\n",
    "# plt.vlines(knots, ymin=-4, ymax=8, linestyles=\"dashed\")"
   ]
  },
  {
   "cell_type": "markdown",
   "id": "e061d13f",
   "metadata": {},
   "source": [
    "Note that I am only drawing the middle 4 knots here. The `SplineTransformer` actually hands back several extra knots on either side of the input data points for technical reasons. "
   ]
  },
  {
   "cell_type": "markdown",
   "id": "c3ad83a6",
   "metadata": {},
   "source": [
    "Next, we can peek at the basis function's its using based on the chosen knots. Note that we haven't actually learned any coefficients for the functions yet, we're just setting up what the functions are.\n",
    "\n",
    "**Warning**: The `sklearn` code uses a different collection of basis functions to get cubic splines. For our purposes, it doesn't matter. We just need this thing to pop out a smooth function which it will do (at least inside the middle 4 knots)"
   ]
  },
  {
   "cell_type": "code",
   "execution_count": null,
   "id": "d1362e80",
   "metadata": {},
   "outputs": [],
   "source": [
    "x_plot = np.linspace(-10, 20, 100)\n",
    "\n",
    "plt.figure(figsize=(12,5))\n",
    "ax = plt.gca()\n",
    "\n",
    "ax.plot(x_plot, splt.transform(x_plot.reshape(-1,1)))\n",
    "ax.legend(ax.lines, [f\"Spline {n}\" for n in range(6)])\n",
    "ax.set_title(\"SplineTransformer\")\n",
    "\n",
    "# plot knots of spline\n",
    "knots = splt.bsplines_[0].t\n",
    "ax.vlines(knots, ymin=0, ymax=0.8, linestyles=\"dashed\")"
   ]
  },
  {
   "cell_type": "markdown",
   "id": "516fbfcf",
   "metadata": {},
   "source": [
    "I'm going to make use of a nice function from scikitlearn that builds up a pipeline for us to use.  Basically, the `make_pipline` function here takes your input data, runs the `SplineTransformer` on it to get the features, then runs linear regression.  "
   ]
  },
  {
   "cell_type": "code",
   "execution_count": null,
   "id": "67389b0b",
   "metadata": {},
   "outputs": [],
   "source": [
    "# B-spline with 4 + 3 - 1 = 6 basis functions\n",
    "model = make_pipeline(SplineTransformer(n_knots=4, degree=3), LinearRegression())\n",
    "model.fit(X, y)"
   ]
  },
  {
   "cell_type": "markdown",
   "id": "06fc80fe",
   "metadata": {},
   "source": [
    "Now, I can see the coefficients that linear regression learned by digging into the `make_pipeline` object as follows."
   ]
  },
  {
   "cell_type": "code",
   "execution_count": null,
   "id": "596055d4",
   "metadata": {},
   "outputs": [],
   "source": [
    "model.named_steps['linearregression'].intercept_"
   ]
  },
  {
   "cell_type": "code",
   "execution_count": null,
   "id": "1fe2b7fb",
   "metadata": {},
   "outputs": [],
   "source": [
    "model.named_steps['linearregression'].coef_"
   ]
  },
  {
   "cell_type": "markdown",
   "id": "a730c9cf",
   "metadata": {},
   "source": [
    "Similarly, I can find the knots as follows."
   ]
  },
  {
   "cell_type": "code",
   "execution_count": null,
   "id": "9289db91",
   "metadata": {},
   "outputs": [],
   "source": [
    "# Marks where the knots are as vertical lines\n",
    "knots = model.named_steps['splinetransformer'].bsplines_[0].t\n",
    "print(knots)\n"
   ]
  },
  {
   "cell_type": "markdown",
   "id": "18307697",
   "metadata": {},
   "source": [
    "So each of the coefficients were learned for each of the spline functions drawn in the figure above.  While we could try to determine the function by hand, that's getting beyond messy.  However, as usual, we can figure out the predicted values from the learned model on the original $X$ input data as follows."
   ]
  },
  {
   "cell_type": "code",
   "execution_count": null,
   "id": "537b60a2",
   "metadata": {},
   "outputs": [],
   "source": [
    "y_hat = model.predict(X)"
   ]
  },
  {
   "cell_type": "markdown",
   "id": "e7da6216",
   "metadata": {},
   "source": [
    "We can also draw the full function below by using the predict function on evenly spaced $t$ values. "
   ]
  },
  {
   "cell_type": "code",
   "execution_count": null,
   "id": "d505bb2d",
   "metadata": {
    "scrolled": true
   },
   "outputs": [],
   "source": [
    "# Make the figure drawn wide\n",
    "plt.figure(figsize = (10,5))\n",
    "\n",
    "# Draw knots \n",
    "plt.vlines(knots[3:-3], ymin=-4, ymax=8, linestyles=\"dashed\", label = 'Knots')\n",
    "\n",
    "# plot training points\n",
    "plt.scatter(X, y, label=\"Training points\")\n",
    "\n",
    "# Plot predicted values for each X\n",
    "plt.scatter(X,y_hat,label = 'Predicted',marker = 's')\n",
    "\n",
    "\n",
    "# Plot the full model\n",
    "x_plot = np.linspace(-1, 11, 100)\n",
    "spline_y_plot = model.predict(x_plot.reshape(-1,1))\n",
    "plt.plot(x_plot,spline_y_plot, label = 'Learned model')\n",
    "\n",
    "plt.legend()"
   ]
  },
  {
   "cell_type": "markdown",
   "id": "354a7475",
   "metadata": {},
   "source": [
    "# 2. Cubic spline on `wage` to predict `age`"
   ]
  },
  {
   "cell_type": "markdown",
   "id": "5ee37bb0",
   "metadata": {},
   "source": [
    "&#9989; **<font color=red>Do this:</font>** \n",
    "- Split the `wage` and `age` data into a train test split. \n",
    "- Using the code above that generates splines, build a cubic spline model to predict wage from age in the `Wage` data set and train on your training set. \n",
    "- Use the trained model to predict on your testing set. What is the MSE? \n",
    "- Use your trained model to draw the learned spline on the scatter plot of age and wage, as in the left side of Fig 7.5. (*Note we're only doing regular splines with this code, not natural as in Fig 7.4, but the results end up pretty similar in our case*)\n"
   ]
  },
  {
   "cell_type": "code",
   "execution_count": null,
   "id": "ad9f756e",
   "metadata": {},
   "outputs": [],
   "source": [
    "# Your code here #"
   ]
  },
  {
   "cell_type": "markdown",
   "id": "66f79113",
   "metadata": {},
   "source": [
    "\n",
    "\n",
    "-----\n",
    "### Congratulations, we're done!\n",
    "Written by Dr. Liz Munch, Michigan State University\n",
    "\n",
    "<a rel=\"license\" href=\"http://creativecommons.org/licenses/by-nc/4.0/\"><img alt=\"Creative Commons License\" style=\"border-width:0\" src=\"https://i.creativecommons.org/l/by-nc/4.0/88x31.png\" /></a><br />This work is licensed under a <a rel=\"license\" href=\"http://creativecommons.org/licenses/by-nc/4.0/\">Creative Commons Attribution-NonCommercial 4.0 International License</a>."
   ]
  },
  {
   "cell_type": "code",
   "execution_count": null,
   "id": "3fb8354f",
   "metadata": {},
   "outputs": [],
   "source": []
  }
 ],
 "metadata": {
  "kernelspec": {
   "display_name": "Python 3 (ipykernel)",
   "language": "python",
   "name": "python3"
  },
  "language_info": {
   "codemirror_mode": {
    "name": "ipython",
    "version": 3
   },
   "file_extension": ".py",
   "mimetype": "text/x-python",
   "name": "python",
   "nbconvert_exporter": "python",
   "pygments_lexer": "ipython3",
   "version": "3.10.9"
  }
 },
 "nbformat": 4,
 "nbformat_minor": 5
}

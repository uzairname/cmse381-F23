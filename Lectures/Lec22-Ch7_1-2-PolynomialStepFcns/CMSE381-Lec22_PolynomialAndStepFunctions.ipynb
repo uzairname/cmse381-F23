{
 "cells": [
  {
   "cell_type": "markdown",
   "id": "4dfd68f5",
   "metadata": {},
   "source": [
    "# Lec 22 - Polynomial Regression and Step Functions\n",
    "## CMSE 381 - Fall 2023\n",
    "## Nov 1, 2023\n",
    "\n"
   ]
  },
  {
   "cell_type": "markdown",
   "id": "c90aa0b0",
   "metadata": {},
   "source": [
    "In this module we are going to implement polynomial regression and step functions as discussed in class."
   ]
  },
  {
   "cell_type": "code",
   "execution_count": null,
   "id": "4ea3a4b4",
   "metadata": {},
   "outputs": [],
   "source": [
    "# Everyone's favorite standard imports\n",
    "import numpy as np\n",
    "import pandas as pd\n",
    "import matplotlib.pyplot as plt\n",
    "%matplotlib inline\n",
    "import time\n",
    "\n",
    "\n",
    "# ML imports we've used previously\n",
    "from sklearn.model_selection import train_test_split\n",
    "from sklearn.metrics import mean_squared_error\n",
    "\n",
    "import statsmodels.api as sm\n"
   ]
  },
  {
   "cell_type": "markdown",
   "id": "81f9a257",
   "metadata": {},
   "source": [
    "# 0. Loading in the data\n",
    "\n",
    "We're going to use the `Wage` data used in the book, so note that many of your plots can be checked by looking at figures in the book."
   ]
  },
  {
   "cell_type": "code",
   "execution_count": null,
   "id": "3ceeb83a",
   "metadata": {},
   "outputs": [],
   "source": [
    "df = pd.read_csv('../../DataSets/Wage.csv', index_col =0 )\n",
    "df.head()"
   ]
  },
  {
   "cell_type": "code",
   "execution_count": null,
   "id": "903ebb82",
   "metadata": {},
   "outputs": [],
   "source": [
    "df.info()"
   ]
  },
  {
   "cell_type": "code",
   "execution_count": null,
   "id": "1bc159e5",
   "metadata": {},
   "outputs": [],
   "source": [
    "df.describe()"
   ]
  },
  {
   "cell_type": "markdown",
   "id": "68b20448",
   "metadata": {},
   "source": [
    "Here's the plot we used multiple times in class to look at a single variable:  `age` vs `wage`. I've also added some splits so that the people making above and below $250,000 are drawn in a different color."
   ]
  },
  {
   "cell_type": "code",
   "execution_count": null,
   "id": "b90464f2",
   "metadata": {},
   "outputs": [],
   "source": [
    "plt.scatter(df.age[df.wage <=250], df.wage[df.wage<=250],marker = '*', label = '< 250')\n",
    "plt.scatter(df.age[df.wage >250], df.wage[df.wage>250], label = '> 250')\n",
    "plt.legend()\n",
    "\n",
    "plt.xlabel('Age')\n",
    "plt.ylabel('Wage')"
   ]
  },
  {
   "cell_type": "markdown",
   "id": "33ee1cd8",
   "metadata": {},
   "source": [
    "## 1. Linear Regression\n",
    "\n",
    "Before we do anything fancy, let's just do some linear regression. It's not going to be a great fit to our data, this is just to see how we can draw the function learned. \n",
    "\n",
    "If I want to learn a linear model predicting `wage` from `age`, I can do the same thing we've done for the last month. \n",
    "\n"
   ]
  },
  {
   "cell_type": "code",
   "execution_count": null,
   "id": "cd056c21",
   "metadata": {},
   "outputs": [],
   "source": [
    "from sklearn.linear_model import LinearRegression"
   ]
  },
  {
   "cell_type": "code",
   "execution_count": null,
   "id": "2ef056ca",
   "metadata": {},
   "outputs": [],
   "source": [
    "X = df.age.values.reshape(-1,1)\n",
    "y = df.wage\n",
    "\n",
    "linreg = LinearRegression()\n",
    "\n",
    "\n",
    "linreg.fit(X,y)"
   ]
  },
  {
   "cell_type": "markdown",
   "id": "e6eed2a1",
   "metadata": {},
   "source": [
    "&#9989; **<font color=red>Do this:</font>** What is the equation learned by the model? "
   ]
  },
  {
   "cell_type": "code",
   "execution_count": null,
   "id": "53dfea80",
   "metadata": {},
   "outputs": [],
   "source": [
    "# your code and or answer here"
   ]
  },
  {
   "cell_type": "markdown",
   "id": "98b7b9a8",
   "metadata": {},
   "source": [
    "Now I could plot this by taking the equation I just learned and applying it to some vector of values. \n",
    "\n",
    "&#9989; **<font color=red>Do this:</font>** Take the vector of values `t_age` below, and plut it into your equation you figured out above to get a vector `y_wage`. "
   ]
  },
  {
   "cell_type": "code",
   "execution_count": null,
   "id": "acc1342e",
   "metadata": {},
   "outputs": [],
   "source": [
    "t_age = np.linspace(20,80)\n",
    "\n",
    "# your code here for y_wage"
   ]
  },
  {
   "cell_type": "code",
   "execution_count": null,
   "id": "5398117c",
   "metadata": {},
   "outputs": [],
   "source": [
    "plt.scatter(df.age[df.wage <=250], df.wage[df.wage<=250],marker = '*', label = '< 250')\n",
    "plt.scatter(df.age[df.wage >250], df.wage[df.wage>250], label = '> 250')\n",
    "plt.legend()\n",
    "\n",
    "plt.xlabel('Age')\n",
    "plt.ylabel('Wage')\n",
    "\n",
    "# This is what i'm adding to draw the line \n",
    "\n",
    "plt.plot(t_age, y_wage, color = 'red')"
   ]
  },
  {
   "cell_type": "markdown",
   "id": "c41cc441",
   "metadata": {},
   "source": [
    "Now, for plan B in terms of plotting, I can just ask the model to predict values for everything in the `t_age` vector.  It does the same thing, since the innards of the model know how to take a value for `age` and predict `wage`. So the figure below should look exactly the same as your figure above. "
   ]
  },
  {
   "cell_type": "code",
   "execution_count": null,
   "id": "1377fef6",
   "metadata": {},
   "outputs": [],
   "source": [
    "# Now I'm using the sklearn model to figure out my plot!\n",
    "y_wage = linreg.predict(t_age.reshape(-1,1))"
   ]
  },
  {
   "cell_type": "code",
   "execution_count": null,
   "id": "1cb7f5b8",
   "metadata": {},
   "outputs": [],
   "source": [
    "plt.scatter(df.age[df.wage <=250], df.wage[df.wage<=250],marker = '*', label = '< 250')\n",
    "plt.scatter(df.age[df.wage >250], df.wage[df.wage>250], label = '> 250')\n",
    "plt.legend()\n",
    "\n",
    "plt.xlabel('Age')\n",
    "plt.ylabel('Wage')\n",
    "\n",
    "# This is what i'm adding to draw the line \n",
    "\n",
    "plt.plot(t_age, y_wage, color = 'red')"
   ]
  },
  {
   "cell_type": "markdown",
   "id": "0e0398b5",
   "metadata": {},
   "source": [
    "# 1. Polynomial Regression \n",
    "\n",
    "Our first step is to build a polynomial regression model using the age data to predict wage.  So, as in class, we are in $p=1$ world here where we are going to fit the model\n",
    "$$\n",
    "\\texttt{wage} = \\beta_0 + \\beta_1 \\texttt{age} + \\beta_2 \\texttt{age}^2 + \\cdots + \\beta_p \\texttt{age}^p +\\varepsilon.\n",
    "$$\n",
    "\n",
    "The trick here is to build a matrix $X$ which has a column containing `age`, one with `age^2`, one with `age^3`, etc.  Then we hand this to your favorite regression tool (it doesn't need to know it's getting polynomial matrix inputs, it just sees a matrix of features and does it's thing). \n",
    "\n",
    "So, here's some code to take our $\\texttt{age}$ data column and create a bunch of new columns in our data frame that are simply each the $k$th power of the `age` column"
   ]
  },
  {
   "cell_type": "code",
   "execution_count": null,
   "id": "681f4ddb",
   "metadata": {},
   "outputs": [],
   "source": [
    "# Here's the column I care about\n",
    "df.age"
   ]
  },
  {
   "cell_type": "code",
   "execution_count": null,
   "id": "853a6344",
   "metadata": {},
   "outputs": [],
   "source": [
    "# Here's what the second column should be \n",
    "df.age**2"
   ]
  },
  {
   "cell_type": "markdown",
   "id": "cf8f8d51",
   "metadata": {},
   "source": [
    "&#9989; **<font color=red>Do this:</font>** Use the `PolynomialFeatures` command to generate a data frame called `polydf` with columns $\\texttt{age}$,  $\\texttt{age}^2$,  $\\texttt{age}^3$,  $\\texttt{age}^4$ like we did a few lectures ago. \n",
    "\n",
    "\n"
   ]
  },
  {
   "cell_type": "code",
   "execution_count": null,
   "id": "438db0c8",
   "metadata": {},
   "outputs": [],
   "source": [
    "from sklearn.preprocessing import PolynomialFeatures"
   ]
  },
  {
   "cell_type": "code",
   "execution_count": null,
   "id": "933012f9",
   "metadata": {},
   "outputs": [],
   "source": [
    "# Your code here #"
   ]
  },
  {
   "cell_type": "markdown",
   "id": "920e719e",
   "metadata": {},
   "source": [
    "&#9989; **<font color=red>Do this:</font>** Train a linear regression model on these features. What are the coefficients? \n"
   ]
  },
  {
   "cell_type": "code",
   "execution_count": null,
   "id": "d3c06369",
   "metadata": {},
   "outputs": [],
   "source": [
    "# Your code here #"
   ]
  },
  {
   "cell_type": "markdown",
   "id": "f2df7fb5",
   "metadata": {},
   "source": [
    "&#9989; **<font color=red>Q:</font>** What is the equation for the polynomial that you learned? \n",
    "\n",
    "*Your equation here*"
   ]
  },
  {
   "cell_type": "markdown",
   "id": "287faa18",
   "metadata": {},
   "source": [
    "&#9989; **<font color=red>Do this:</font>** As before, determine `y_wage` from the `t_age` input below by using the polynomial you figured out above. Then the code below should plot your function. "
   ]
  },
  {
   "cell_type": "code",
   "execution_count": null,
   "id": "52f969d1",
   "metadata": {},
   "outputs": [],
   "source": [
    "t_age = np.linspace(10,90,100)\n",
    "\n",
    "# Your code here to determine y_wage"
   ]
  },
  {
   "cell_type": "code",
   "execution_count": null,
   "id": "901e5e22",
   "metadata": {},
   "outputs": [],
   "source": [
    "# Note: this should look like and the next slide in the notes.\n",
    "plt.scatter(df.age[df.wage <=250], df.wage[df.wage<=250],marker = '*')\n",
    "plt.scatter(df.age[df.wage >250], df.wage[df.wage>250])\n",
    "\n",
    "plt.xlabel('Age')\n",
    "plt.ylabel('Wage')\n",
    "\n",
    "plt.plot(t_age, y_wage, c= 'red')"
   ]
  },
  {
   "cell_type": "markdown",
   "id": "226ce85b",
   "metadata": {},
   "source": [
    "&#9989; **<font color=red>Do this:</font>** Do the same thing again by predicting `y_wage` using the linear regression model you just used. \n",
    "\n",
    "*Hint: the `linreg` trained wants a matrix of values, not just a single column. What do you need to do to `t_age` to pass it into the linear regression model? "
   ]
  },
  {
   "cell_type": "code",
   "execution_count": null,
   "id": "1d4970e4",
   "metadata": {},
   "outputs": [],
   "source": [
    "t_age = np.linspace(10,90,100)\n",
    "\n",
    "# Your code here to get y_wage "
   ]
  },
  {
   "cell_type": "code",
   "execution_count": null,
   "id": "2a888d08",
   "metadata": {},
   "outputs": [],
   "source": [
    "# Note: If it worked, this should look exactly the same as the plot above. \n",
    "plt.scatter(df.age[df.wage <=250], df.wage[df.wage<=250],marker = '*')\n",
    "plt.scatter(df.age[df.wage >250], df.wage[df.wage>250])\n",
    "\n",
    "plt.plot(t_age,y_wage, c= 'red')\n",
    "plt.xlabel('Age')\n",
    "plt.ylabel('Wage')"
   ]
  },
  {
   "cell_type": "markdown",
   "id": "959a8e3e",
   "metadata": {},
   "source": [
    "\n",
    "![Stop Icon](https://upload.wikimedia.org/wikipedia/commons/thumb/1/1e/Vienna_Convention_road_sign_B2a.svg/180px-Vienna_Convention_road_sign_B2a.svg.png)\n",
    "\n",
    "Great, you got to here! Hang out for a bit, there's more lecture before we go on to the next portion. "
   ]
  },
  {
   "cell_type": "markdown",
   "id": "89fcc6df",
   "metadata": {},
   "source": [
    "# 2. Step functions\n",
    "\n",
    "Now let's try to use step functions to learn a model using `age` to predict `wage`. Like with the polynomial example from last time, all we're going to do is build a data frame or feature matrix that has the step function values in each column, and then pass that matrix to our favorite linear modeling function. \n",
    "\n",
    "First, we want to get a dataframe with the cuts. "
   ]
  },
  {
   "cell_type": "code",
   "execution_count": null,
   "id": "fb65c7d9",
   "metadata": {},
   "outputs": [],
   "source": [
    "df_cut, bins = pd.cut(df.age, 4, retbins = True, right = False)"
   ]
  },
  {
   "cell_type": "markdown",
   "id": "c694f2d5",
   "metadata": {},
   "source": [
    "Note that the `df_cut` is a pandas series with each data point now represented as the interval it's contained in. "
   ]
  },
  {
   "cell_type": "code",
   "execution_count": null,
   "id": "37c6cf21",
   "metadata": {},
   "outputs": [],
   "source": [
    "df_cut"
   ]
  },
  {
   "cell_type": "markdown",
   "id": "e28b53a3",
   "metadata": {},
   "source": [
    "Here I'm just printing it out in a column next to the `age` information that was used to generate it."
   ]
  },
  {
   "cell_type": "code",
   "execution_count": null,
   "id": "12ab1bca",
   "metadata": {},
   "outputs": [],
   "source": [
    "pd.DataFrame({'age': df.age, 'df_cut': df_cut})"
   ]
  },
  {
   "cell_type": "markdown",
   "id": "837d318b",
   "metadata": {},
   "source": [
    "The `bins` output gives me the $c_i$'s as follows. \n"
   ]
  },
  {
   "cell_type": "code",
   "execution_count": null,
   "id": "11514f26",
   "metadata": {},
   "outputs": [],
   "source": [
    "print(bins)"
   ]
  },
  {
   "cell_type": "code",
   "execution_count": null,
   "id": "4fde5a8c",
   "metadata": {},
   "outputs": [],
   "source": [
    "# This is how it matches with our notation.\n",
    "print(r'c_1 = ', bins[0])\n",
    "print(r'c_2 = ', bins[1])\n",
    "print(r'c_3 = ', bins[2])\n",
    "print(r'c_4 = ', bins[3])\n",
    "print(r'c_5 = ', bins[4])"
   ]
  },
  {
   "cell_type": "markdown",
   "id": "cd24ddf0",
   "metadata": {},
   "source": [
    "&#9989; **<font color=red>Do this:</font>**\n",
    " For each of the functions $C_0(X)$, $C_1(X)$, $C_2(X)$, $C_3(X)$, $C_4(X)$, $C_5(X)$ (following our notation in class), determine the domains where they have value 1. "
   ]
  },
  {
   "cell_type": "markdown",
   "id": "9d69efb0",
   "metadata": {},
   "source": [
    "*Your answer here*\n",
    "\n",
    "- $C_0(X)$:\n",
    "- $C_1(X)$:\n",
    "- $C_2(X)$: \n",
    "- $C_3(X)$: \n",
    "- $C_4(X)$: \n",
    "- $C_5(X)$: "
   ]
  },
  {
   "cell_type": "markdown",
   "id": "000824fc",
   "metadata": {},
   "source": [
    "Below is my code that generates the data frame storing $C_i(X)$ for all our entries. "
   ]
  },
  {
   "cell_type": "code",
   "execution_count": null,
   "id": "e8e4bbe8",
   "metadata": {
    "scrolled": false
   },
   "outputs": [],
   "source": [
    "df_steps_dummies = pd.get_dummies(df_cut)\n",
    "df_steps_dummies.head()"
   ]
  },
  {
   "cell_type": "markdown",
   "id": "6127ffb5",
   "metadata": {},
   "source": [
    "As with our other uses of dummy variables, I don't actually need all of them. I can just include three since I can always figure out the entry of the first based on the rest. It doesn't actually matter which one you drop (as long as you interpret proplerly after the fact) so for the sake of making the notation no worse than it already is I'm going to drop the last one. (*Note I could use `drop_first = True` instead, again just with some slight changes in interpretation later*)"
   ]
  },
  {
   "cell_type": "code",
   "execution_count": null,
   "id": "88123223",
   "metadata": {},
   "outputs": [],
   "source": [
    "df_steps_dummies = df_steps_dummies.iloc[:,:3]\n",
    "df_steps_dummies.head()"
   ]
  },
  {
   "cell_type": "markdown",
   "id": "682d586b",
   "metadata": {},
   "source": [
    "&#9989; **<font color=red>Q:</font>** Which of the functions $C_i(X)$ for $i=0,\\cdots, 5$ have columns represented in this matrix? *Note: it's not all of them*\n"
   ]
  },
  {
   "cell_type": "markdown",
   "id": "db728a50",
   "metadata": {},
   "source": [
    "* Your answer here*"
   ]
  },
  {
   "cell_type": "markdown",
   "id": "adcce1b7",
   "metadata": {},
   "source": [
    "&#9989; **<font color=red>Do this:</font>** Pass this matrix to a linear regression model and use it to predict `wage`. What is the equation for your learned model? Be specific in terms of the $C_i$ functions you learned earlier."
   ]
  },
  {
   "cell_type": "code",
   "execution_count": null,
   "id": "687737a7",
   "metadata": {},
   "outputs": [],
   "source": [
    "# Your code here #"
   ]
  },
  {
   "cell_type": "markdown",
   "id": "2a77ae87",
   "metadata": {},
   "source": [
    "&#9989; **<font color=red>Do this:</font>** Using the function $f(X)$ you just learned, what is the function value on each of the following values of $X$?\n",
    "\n",
    "| X  | f(X)| \n",
    "| ---| --- | \n",
    "| 10 |     |\n",
    "| 20 |     |\n",
    "| 30 |     | \n",
    "| 40 |     |\n",
    "| 50 |     | \n",
    "| 60 |     | \n",
    "| 70 |     |\n",
    "| 80 |     |\n",
    "\n"
   ]
  },
  {
   "cell_type": "markdown",
   "id": "f7eaad17",
   "metadata": {},
   "source": [
    "Assuming you stored your linear regression model as `linreg`, the following code will plot the learned function. Check that the answers you got in the table above match with what you're seeing in the graph.  "
   ]
  },
  {
   "cell_type": "code",
   "execution_count": null,
   "id": "38d56358",
   "metadata": {},
   "outputs": [],
   "source": [
    "t_age = np.linspace(10,80,100)\n",
    "\n",
    "# First I need to do the same transformation on my t inputs that \n",
    "# I did on the original data for this to work!!! The only weird \n",
    "# thing is that it doesn't remember my column names, but we're still doing the same thing here. \n",
    "bin_mapping = np.digitize(t_age, bins)\n",
    "t_dummies = pd.get_dummies(bin_mapping)\n",
    "t_dummies = t_dummies.drop(columns =[0,4])\n",
    "\n",
    "# Manually putting the column names back to aleviate confusion\n",
    "# This step isn't really necessary for prediction, just for understanding.\n",
    "t_dummies.columns = df_steps_dummies.columns\n",
    "t_dummies.head()"
   ]
  },
  {
   "cell_type": "markdown",
   "id": "168b4e64",
   "metadata": {},
   "source": [
    "&#9989; **<font color=red>Do this:</font>** Above, I figured out the transformation of the input `t_age` values to do the same transformation as our step function. Now use the linear regression model learned to predict `y_wage`, then we can graph it. "
   ]
  },
  {
   "cell_type": "code",
   "execution_count": null,
   "id": "78a9acbb",
   "metadata": {},
   "outputs": [],
   "source": [
    "# your code here\n",
    "\n",
    "# y_wage = ......."
   ]
  },
  {
   "cell_type": "code",
   "execution_count": null,
   "id": "a1be4bc6",
   "metadata": {
    "scrolled": false
   },
   "outputs": [],
   "source": [
    "plt.scatter(df.age[df.wage <=250], df.wage[df.wage<=250],marker = '*')\n",
    "plt.scatter(df.age[df.wage >250], df.wage[df.wage>250])\n",
    "plt.xlabel('Age')\n",
    "plt.ylabel('Wage')\n",
    "\n",
    "plt.plot(t,stepPredict,color='red')"
   ]
  },
  {
   "cell_type": "markdown",
   "id": "66f79113",
   "metadata": {},
   "source": [
    "\n",
    "\n",
    "-----\n",
    "### Congratulations, we're done!\n",
    "Written by Dr. Liz Munch, Michigan State University\n",
    "\n",
    "<a rel=\"license\" href=\"http://creativecommons.org/licenses/by-nc/4.0/\"><img alt=\"Creative Commons License\" style=\"border-width:0\" src=\"https://i.creativecommons.org/l/by-nc/4.0/88x31.png\" /></a><br />This work is licensed under a <a rel=\"license\" href=\"http://creativecommons.org/licenses/by-nc/4.0/\">Creative Commons Attribution-NonCommercial 4.0 International License</a>."
   ]
  },
  {
   "cell_type": "code",
   "execution_count": null,
   "id": "3fb8354f",
   "metadata": {},
   "outputs": [],
   "source": []
  }
 ],
 "metadata": {
  "kernelspec": {
   "display_name": "Python 3 (ipykernel)",
   "language": "python",
   "name": "python3"
  },
  "language_info": {
   "codemirror_mode": {
    "name": "ipython",
    "version": 3
   },
   "file_extension": ".py",
   "mimetype": "text/x-python",
   "name": "python",
   "nbconvert_exporter": "python",
   "pygments_lexer": "ipython3",
   "version": "3.10.9"
  }
 },
 "nbformat": 4,
 "nbformat_minor": 5
}

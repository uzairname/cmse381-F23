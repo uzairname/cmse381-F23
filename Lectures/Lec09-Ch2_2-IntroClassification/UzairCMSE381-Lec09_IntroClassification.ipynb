{
 "cells": [
  {
   "cell_type": "markdown",
   "id": "4dfd68f5",
   "metadata": {},
   "source": [
    "# Lab: Intro to Classification\n",
    "## CMSE 381 - Fall 2023\n",
    "## Sep 18, 2023\n",
    "\n"
   ]
  },
  {
   "cell_type": "code",
   "execution_count": 1,
   "id": "3f2bdd6f",
   "metadata": {},
   "outputs": [],
   "source": [
    "# Standard imports\n",
    "import numpy as np \n",
    "import matplotlib.pyplot as plt\n",
    "import pandas as pd \n",
    "%matplotlib inline\n",
    "import seaborn as sns"
   ]
  },
  {
   "cell_type": "markdown",
   "id": "08b964f8",
   "metadata": {},
   "source": [
    "## Reading in the chicken or egg data"
   ]
  },
  {
   "cell_type": "markdown",
   "id": "b45a53af",
   "metadata": {},
   "source": [
    "In this lab, we are going to try out the KNN classification described in class. First, we're going to load up our data. This data is 100% made up by Dr. Munch. Based on two inputs $x_1$ and $x_2$, we get to predict whether we have a `chicken` or an `egg`. "
   ]
  },
  {
   "cell_type": "code",
   "execution_count": 2,
   "id": "04ceb8ac",
   "metadata": {},
   "outputs": [
    {
     "data": {
      "text/html": [
       "<div>\n",
       "<style scoped>\n",
       "    .dataframe tbody tr th:only-of-type {\n",
       "        vertical-align: middle;\n",
       "    }\n",
       "\n",
       "    .dataframe tbody tr th {\n",
       "        vertical-align: top;\n",
       "    }\n",
       "\n",
       "    .dataframe thead th {\n",
       "        text-align: right;\n",
       "    }\n",
       "</style>\n",
       "<table border=\"1\" class=\"dataframe\">\n",
       "  <thead>\n",
       "    <tr style=\"text-align: right;\">\n",
       "      <th></th>\n",
       "      <th>x1</th>\n",
       "      <th>x2</th>\n",
       "      <th>Label</th>\n",
       "    </tr>\n",
       "  </thead>\n",
       "  <tbody>\n",
       "    <tr>\n",
       "      <th>0</th>\n",
       "      <td>-3.156478</td>\n",
       "      <td>-1.110356</td>\n",
       "      <td>chicken</td>\n",
       "    </tr>\n",
       "    <tr>\n",
       "      <th>1</th>\n",
       "      <td>-3.547711</td>\n",
       "      <td>0.438432</td>\n",
       "      <td>chicken</td>\n",
       "    </tr>\n",
       "    <tr>\n",
       "      <th>2</th>\n",
       "      <td>-6.243875</td>\n",
       "      <td>5.288547</td>\n",
       "      <td>chicken</td>\n",
       "    </tr>\n",
       "    <tr>\n",
       "      <th>3</th>\n",
       "      <td>-5.398701</td>\n",
       "      <td>4.044941</td>\n",
       "      <td>chicken</td>\n",
       "    </tr>\n",
       "    <tr>\n",
       "      <th>4</th>\n",
       "      <td>3.556318</td>\n",
       "      <td>4.750270</td>\n",
       "      <td>chicken</td>\n",
       "    </tr>\n",
       "    <tr>\n",
       "      <th>5</th>\n",
       "      <td>3.208898</td>\n",
       "      <td>-1.319343</td>\n",
       "      <td>chicken</td>\n",
       "    </tr>\n",
       "    <tr>\n",
       "      <th>6</th>\n",
       "      <td>6.486065</td>\n",
       "      <td>-3.953278</td>\n",
       "      <td>egg</td>\n",
       "    </tr>\n",
       "    <tr>\n",
       "      <th>7</th>\n",
       "      <td>-1.126397</td>\n",
       "      <td>3.032450</td>\n",
       "      <td>chicken</td>\n",
       "    </tr>\n",
       "    <tr>\n",
       "      <th>8</th>\n",
       "      <td>1.820567</td>\n",
       "      <td>-6.872025</td>\n",
       "      <td>egg</td>\n",
       "    </tr>\n",
       "    <tr>\n",
       "      <th>9</th>\n",
       "      <td>-2.601184</td>\n",
       "      <td>5.737621</td>\n",
       "      <td>chicken</td>\n",
       "    </tr>\n",
       "  </tbody>\n",
       "</table>\n",
       "</div>"
      ],
      "text/plain": [
       "         x1        x2    Label\n",
       "0 -3.156478 -1.110356  chicken\n",
       "1 -3.547711  0.438432  chicken\n",
       "2 -6.243875  5.288547  chicken\n",
       "3 -5.398701  4.044941  chicken\n",
       "4  3.556318  4.750270  chicken\n",
       "5  3.208898 -1.319343  chicken\n",
       "6  6.486065 -3.953278      egg\n",
       "7 -1.126397  3.032450  chicken\n",
       "8  1.820567 -6.872025      egg\n",
       "9 -2.601184  5.737621  chicken"
      ]
     },
     "execution_count": 2,
     "metadata": {},
     "output_type": "execute_result"
    }
   ],
   "source": [
    "Chick_df = pd.read_csv('../../DataSets/ChickenEgg.csv')\n",
    "Chick_df.head(10)"
   ]
  },
  {
   "cell_type": "markdown",
   "id": "9763db94",
   "metadata": {},
   "source": [
    "The first step is always to do some data exploration. \n",
    "\n",
    "&#9989; **<font color=red>Do this:</font>** Draw a scatter plot of your data with the relevant labels. \n",
    "\n",
    "*Hint: There are many ways to do this, but `sns.scatterplot` often works the fastest, and if you set `hue` and/or `style` to the `Label` column, you should get the labels drawn as color and/or symbol.*\n"
   ]
  },
  {
   "cell_type": "code",
   "execution_count": 6,
   "id": "8e5177b5",
   "metadata": {},
   "outputs": [
    {
     "data": {
      "text/plain": [
       "<Axes: xlabel='x1', ylabel='x2'>"
      ]
     },
     "execution_count": 6,
     "metadata": {},
     "output_type": "execute_result"
    },
    {
     "data": {
      "image/png": "[encoded data removed]",
      "text/plain": [
       "<Figure size 640x480 with 1 Axes>"
      ]
     },
     "metadata": {},
     "output_type": "display_data"
    }
   ],
   "source": [
    "# Your code here\n",
    "\n",
    "sns.scatterplot(Chick_df, x=\"x1\", y=\"x2\", hue=\"Label\")"
   ]
  },
  {
   "cell_type": "markdown",
   "id": "6115fff9",
   "metadata": {},
   "source": [
    "&#9989; **<font color=red>Do this:</font>** Based on your scatter plot, what you expect a KNN classifer with $k=1$ to predict for a data point at $(-4,4)$? What about at $(6,0)$?\n"
   ]
  },
  {
   "cell_type": "markdown",
   "id": "3ecc2723",
   "metadata": {},
   "source": [
    "*Your answer here*"
   ]
  },
  {
   "cell_type": "markdown",
   "id": "b0561116",
   "metadata": {},
   "source": [
    "## KNN with `sklearn`"
   ]
  },
  {
   "cell_type": "markdown",
   "id": "1e25e2d9",
   "metadata": {},
   "source": [
    "Ok, but let's be honest, no one is going to do this by hand everytime. Let's make `sklearn` do it for us!"
   ]
  },
  {
   "cell_type": "code",
   "execution_count": 7,
   "id": "5d8c3d65",
   "metadata": {},
   "outputs": [],
   "source": [
    "from sklearn.neighbors import KNeighborsClassifier"
   ]
  },
  {
   "cell_type": "markdown",
   "id": "c9ea1279",
   "metadata": {},
   "source": [
    "First, we're going to split our data into two pieces. The $X$ input variables, and the $Y$ output variable. "
   ]
  },
  {
   "cell_type": "code",
   "execution_count": 8,
   "id": "8bcc24b3",
   "metadata": {},
   "outputs": [],
   "source": [
    "X = Chick_df.drop('Label', axis =1)\n",
    "y = Chick_df['Label']\n"
   ]
  },
  {
   "cell_type": "code",
   "execution_count": 9,
   "id": "3427c7b9",
   "metadata": {},
   "outputs": [
    {
     "data": {
      "text/html": [
       "<div>\n",
       "<style scoped>\n",
       "    .dataframe tbody tr th:only-of-type {\n",
       "        vertical-align: middle;\n",
       "    }\n",
       "\n",
       "    .dataframe tbody tr th {\n",
       "        vertical-align: top;\n",
       "    }\n",
       "\n",
       "    .dataframe thead th {\n",
       "        text-align: right;\n",
       "    }\n",
       "</style>\n",
       "<table border=\"1\" class=\"dataframe\">\n",
       "  <thead>\n",
       "    <tr style=\"text-align: right;\">\n",
       "      <th></th>\n",
       "      <th>x1</th>\n",
       "      <th>x2</th>\n",
       "    </tr>\n",
       "  </thead>\n",
       "  <tbody>\n",
       "    <tr>\n",
       "      <th>0</th>\n",
       "      <td>-3.156478</td>\n",
       "      <td>-1.110356</td>\n",
       "    </tr>\n",
       "    <tr>\n",
       "      <th>1</th>\n",
       "      <td>-3.547711</td>\n",
       "      <td>0.438432</td>\n",
       "    </tr>\n",
       "    <tr>\n",
       "      <th>2</th>\n",
       "      <td>-6.243875</td>\n",
       "      <td>5.288547</td>\n",
       "    </tr>\n",
       "    <tr>\n",
       "      <th>3</th>\n",
       "      <td>-5.398701</td>\n",
       "      <td>4.044941</td>\n",
       "    </tr>\n",
       "    <tr>\n",
       "      <th>4</th>\n",
       "      <td>3.556318</td>\n",
       "      <td>4.750270</td>\n",
       "    </tr>\n",
       "  </tbody>\n",
       "</table>\n",
       "</div>"
      ],
      "text/plain": [
       "         x1        x2\n",
       "0 -3.156478 -1.110356\n",
       "1 -3.547711  0.438432\n",
       "2 -6.243875  5.288547\n",
       "3 -5.398701  4.044941\n",
       "4  3.556318  4.750270"
      ]
     },
     "execution_count": 9,
     "metadata": {},
     "output_type": "execute_result"
    }
   ],
   "source": [
    "X.head()"
   ]
  },
  {
   "cell_type": "code",
   "execution_count": 10,
   "id": "889b0f3b",
   "metadata": {},
   "outputs": [
    {
     "data": {
      "text/plain": [
       "0    chicken\n",
       "1    chicken\n",
       "2    chicken\n",
       "3    chicken\n",
       "4    chicken\n",
       "Name: Label, dtype: object"
      ]
     },
     "execution_count": 10,
     "metadata": {},
     "output_type": "execute_result"
    }
   ],
   "source": [
    "y.head()"
   ]
  },
  {
   "cell_type": "markdown",
   "id": "85ce1677",
   "metadata": {},
   "source": [
    "Then the following code trains our classifier. "
   ]
  },
  {
   "cell_type": "code",
   "execution_count": 11,
   "id": "4c56001d",
   "metadata": {},
   "outputs": [
    {
     "data": {
      "text/html": [
       "<style>#sk-container-id-1 {color: black;}#sk-container-id-1 pre{padding: 0;}#sk-container-id-1 div.sk-toggleable {background-color: white;}#sk-container-id-1 label.sk-toggleable__label {cursor: pointer;display: block;width: 100%;margin-bottom: 0;padding: 0.3em;box-sizing: border-box;text-align: center;}#sk-container-id-1 label.sk-toggleable__label-arrow:before {content: \"▸\";float: left;margin-right: 0.25em;color: #696969;}#sk-container-id-1 label.sk-toggleable__label-arrow:hover:before {color: black;}#sk-container-id-1 div.sk-estimator:hover label.sk-toggleable__label-arrow:before {color: black;}#sk-container-id-1 div.sk-toggleable__content {max-height: 0;max-width: 0;overflow: hidden;text-align: left;background-color: #f0f8ff;}#sk-container-id-1 div.sk-toggleable__content pre {margin: 0.2em;color: black;border-radius: 0.25em;background-color: #f0f8ff;}#sk-container-id-1 input.sk-toggleable__control:checked~div.sk-toggleable__content {max-height: 200px;max-width: 100%;overflow: auto;}#sk-container-id-1 input.sk-toggleable__control:checked~label.sk-toggleable__label-arrow:before {content: \"▾\";}#sk-container-id-1 div.sk-estimator input.sk-toggleable__control:checked~label.sk-toggleable__label {background-color: #d4ebff;}#sk-container-id-1 div.sk-label input.sk-toggleable__control:checked~label.sk-toggleable__label {background-color: #d4ebff;}#sk-container-id-1 input.sk-hidden--visually {border: 0;clip: rect(1px 1px 1px 1px);clip: rect(1px, 1px, 1px, 1px);height: 1px;margin: -1px;overflow: hidden;padding: 0;position: absolute;width: 1px;}#sk-container-id-1 div.sk-estimator {font-family: monospace;background-color: #f0f8ff;border: 1px dotted black;border-radius: 0.25em;box-sizing: border-box;margin-bottom: 0.5em;}#sk-container-id-1 div.sk-estimator:hover {background-color: #d4ebff;}#sk-container-id-1 div.sk-parallel-item::after {content: \"\";width: 100%;border-bottom: 1px solid gray;flex-grow: 1;}#sk-container-id-1 div.sk-label:hover label.sk-toggleable__label {background-color: #d4ebff;}#sk-container-id-1 div.sk-serial::before {content: \"\";position: absolute;border-left: 1px solid gray;box-sizing: border-box;top: 0;bottom: 0;left: 50%;z-index: 0;}#sk-container-id-1 div.sk-serial {display: flex;flex-direction: column;align-items: center;background-color: white;padding-right: 0.2em;padding-left: 0.2em;position: relative;}#sk-container-id-1 div.sk-item {position: relative;z-index: 1;}#sk-container-id-1 div.sk-parallel {display: flex;align-items: stretch;justify-content: center;background-color: white;position: relative;}#sk-container-id-1 div.sk-item::before, #sk-container-id-1 div.sk-parallel-item::before {content: \"\";position: absolute;border-left: 1px solid gray;box-sizing: border-box;top: 0;bottom: 0;left: 50%;z-index: -1;}#sk-container-id-1 div.sk-parallel-item {display: flex;flex-direction: column;z-index: 1;position: relative;background-color: white;}#sk-container-id-1 div.sk-parallel-item:first-child::after {align-self: flex-end;width: 50%;}#sk-container-id-1 div.sk-parallel-item:last-child::after {align-self: flex-start;width: 50%;}#sk-container-id-1 div.sk-parallel-item:only-child::after {width: 0;}#sk-container-id-1 div.sk-dashed-wrapped {border: 1px dashed gray;margin: 0 0.4em 0.5em 0.4em;box-sizing: border-box;padding-bottom: 0.4em;background-color: white;}#sk-container-id-1 div.sk-label label {font-family: monospace;font-weight: bold;display: inline-block;line-height: 1.2em;}#sk-container-id-1 div.sk-label-container {text-align: center;}#sk-container-id-1 div.sk-container {/* jupyter's `normalize.less` sets `[hidden] { display: none; }` but bootstrap.min.css set `[hidden] { display: none !important; }` so we also need the `!important` here to be able to override the default hidden behavior on the sphinx rendered scikit-learn.org. See: https://github.com/scikit-learn/scikit-learn/issues/21755 */display: inline-block !important;position: relative;}#sk-container-id-1 div.sk-text-repr-fallback {display: none;}</style><div id=\"sk-container-id-1\" class=\"sk-top-container\"><div class=\"sk-text-repr-fallback\"><pre>KNeighborsClassifier(n_neighbors=1)</pre><b>In a Jupyter environment, please rerun this cell to show the HTML representation or trust the notebook. <br />On GitHub, the HTML representation is unable to render, please try loading this page with nbviewer.org.</b></div><div class=\"sk-container\" hidden><div class=\"sk-item\"><div class=\"sk-estimator sk-toggleable\"><input class=\"sk-toggleable__control sk-hidden--visually\" id=\"sk-estimator-id-1\" type=\"checkbox\" checked><label for=\"sk-estimator-id-1\" class=\"sk-toggleable__label sk-toggleable__label-arrow\">KNeighborsClassifier</label><div class=\"sk-toggleable__content\"><pre>KNeighborsClassifier(n_neighbors=1)</pre></div></div></div></div></div>"
      ],
      "text/plain": [
       "KNeighborsClassifier(n_neighbors=1)"
      ]
     },
     "execution_count": 11,
     "metadata": {},
     "output_type": "execute_result"
    }
   ],
   "source": [
    "knn = KNeighborsClassifier(n_neighbors=1)\n",
    "knn.fit(X,y)"
   ]
  },
  {
   "cell_type": "markdown",
   "id": "ed94b6cf",
   "metadata": {},
   "source": [
    "...and this command provides a prediction for an input of  $(-2,3)$ input. "
   ]
  },
  {
   "cell_type": "code",
   "execution_count": 12,
   "id": "544ff516",
   "metadata": {},
   "outputs": [
    {
     "name": "stderr",
     "output_type": "stream",
     "text": [
      "c:\\users\\uzair\\appdata\\local\\programs\\python\\python39\\lib\\site-packages\\sklearn\\base.py:464: UserWarning: X does not have valid feature names, but KNeighborsClassifier was fitted with feature names\n",
      "  warnings.warn(\n"
     ]
    },
    {
     "data": {
      "text/plain": [
       "array(['chicken'], dtype=object)"
      ]
     },
     "execution_count": 12,
     "metadata": {},
     "output_type": "execute_result"
    }
   ],
   "source": [
    "knn.predict([[-2,3]])"
   ]
  },
  {
   "cell_type": "markdown",
   "id": "ae744f8e",
   "metadata": {},
   "source": [
    "&#9989; **<font color=red>Do this:</font>** What does your classifier predict for $(-4,4)$? What about at $(6,0)$? Are these the same that you guessed above? \n"
   ]
  },
  {
   "cell_type": "code",
   "execution_count": 14,
   "id": "2bc2d5f3",
   "metadata": {},
   "outputs": [
    {
     "name": "stderr",
     "output_type": "stream",
     "text": [
      "c:\\users\\uzair\\appdata\\local\\programs\\python\\python39\\lib\\site-packages\\sklearn\\base.py:464: UserWarning: X does not have valid feature names, but KNeighborsClassifier was fitted with feature names\n",
      "  warnings.warn(\n"
     ]
    },
    {
     "data": {
      "text/plain": [
       "array(['chicken', 'egg'], dtype=object)"
      ]
     },
     "execution_count": 14,
     "metadata": {},
     "output_type": "execute_result"
    }
   ],
   "source": [
    "# Your code here\n",
    "\n",
    "knn.predict([[-4,4],[6,0]])"
   ]
  },
  {
   "cell_type": "markdown",
   "id": "9ac89745",
   "metadata": {},
   "source": [
    "This predict function is pretty powerful. If I want to get all predictions for all of my inputs, I can just pass my $X$ dataframe."
   ]
  },
  {
   "cell_type": "code",
   "execution_count": 15,
   "id": "b0dd6c2b",
   "metadata": {},
   "outputs": [
    {
     "data": {
      "text/plain": [
       "array(['chicken', 'chicken', 'chicken', 'chicken', 'chicken', 'chicken',\n",
       "       'egg', 'chicken', 'egg', 'chicken', 'egg', 'egg', 'chicken', 'egg',\n",
       "       'egg', 'chicken', 'chicken', 'chicken', 'egg', 'egg', 'egg',\n",
       "       'chicken', 'chicken', 'egg', 'egg', 'chicken', 'egg', 'chicken',\n",
       "       'chicken', 'chicken', 'chicken', 'chicken', 'egg', 'chicken',\n",
       "       'chicken', 'egg', 'chicken', 'chicken', 'egg', 'chicken', 'egg',\n",
       "       'chicken', 'chicken', 'chicken', 'egg', 'egg', 'egg', 'egg',\n",
       "       'chicken', 'chicken', 'egg', 'chicken', 'chicken', 'egg',\n",
       "       'chicken', 'egg', 'egg', 'egg', 'chicken', 'chicken', 'chicken',\n",
       "       'chicken', 'egg', 'chicken', 'egg', 'chicken', 'chicken',\n",
       "       'chicken', 'egg', 'chicken', 'egg', 'chicken', 'egg', 'chicken',\n",
       "       'egg', 'egg', 'chicken', 'egg', 'chicken', 'chicken', 'egg',\n",
       "       'chicken', 'egg', 'egg', 'egg', 'chicken', 'chicken', 'egg', 'egg',\n",
       "       'chicken'], dtype=object)"
      ]
     },
     "execution_count": 15,
     "metadata": {},
     "output_type": "execute_result"
    }
   ],
   "source": [
    "knn.predict(X)"
   ]
  },
  {
   "cell_type": "markdown",
   "id": "37e61c3e",
   "metadata": {},
   "source": [
    "Remember what all the actual labels were? "
   ]
  },
  {
   "cell_type": "code",
   "execution_count": 16,
   "id": "87c6ecb9",
   "metadata": {},
   "outputs": [
    {
     "data": {
      "text/plain": [
       "array(['chicken', 'chicken', 'chicken', 'chicken', 'chicken', 'chicken',\n",
       "       'egg', 'chicken', 'egg', 'chicken', 'egg', 'egg', 'chicken', 'egg',\n",
       "       'egg', 'chicken', 'chicken', 'chicken', 'egg', 'egg', 'egg',\n",
       "       'chicken', 'chicken', 'egg', 'egg', 'chicken', 'egg', 'chicken',\n",
       "       'chicken', 'chicken', 'chicken', 'chicken', 'egg', 'chicken',\n",
       "       'chicken', 'egg', 'chicken', 'chicken', 'egg', 'chicken', 'egg',\n",
       "       'chicken', 'chicken', 'chicken', 'egg', 'egg', 'egg', 'egg',\n",
       "       'chicken', 'chicken', 'egg', 'chicken', 'chicken', 'egg',\n",
       "       'chicken', 'egg', 'egg', 'egg', 'chicken', 'chicken', 'chicken',\n",
       "       'chicken', 'egg', 'chicken', 'egg', 'chicken', 'chicken',\n",
       "       'chicken', 'egg', 'chicken', 'egg', 'chicken', 'egg', 'chicken',\n",
       "       'egg', 'egg', 'chicken', 'egg', 'chicken', 'chicken', 'egg',\n",
       "       'chicken', 'egg', 'egg', 'egg', 'chicken', 'chicken', 'egg', 'egg',\n",
       "       'chicken'], dtype=object)"
      ]
     },
     "execution_count": 16,
     "metadata": {},
     "output_type": "execute_result"
    }
   ],
   "source": [
    "np.array(y)"
   ]
  },
  {
   "cell_type": "markdown",
   "id": "7c338d99",
   "metadata": {},
   "source": [
    "Now, I could sit here and go through one by one to see if they have the same predicted value as the label to decide on my accuracy. But, as usual, `sklearn` comes to the rescue. "
   ]
  },
  {
   "cell_type": "code",
   "execution_count": 17,
   "id": "831dea15",
   "metadata": {},
   "outputs": [
    {
     "data": {
      "text/plain": [
       "1.0"
      ]
     },
     "execution_count": 17,
     "metadata": {},
     "output_type": "execute_result"
    }
   ],
   "source": [
    "from sklearn.metrics import accuracy_score\n",
    "\n",
    "accuracy_score(knn.predict(X),y)"
   ]
  },
  {
   "cell_type": "markdown",
   "id": "10517295",
   "metadata": {},
   "source": [
    "## Train test splits \n",
    "\n",
    "Ok, so you got 100% accuracy! You're done, right???? \n",
    "\n",
    "**<font color=red>Wrong!</font>**\n",
    "\n",
    "We know better than to report our training accuracy as our actual accuracy! So, let's set up some basic train/test splits!"
   ]
  },
  {
   "cell_type": "code",
   "execution_count": 18,
   "id": "89fc5ccd",
   "metadata": {},
   "outputs": [],
   "source": [
    "from sklearn.model_selection import train_test_split\n",
    "X_train, X_test, y_train, y_test = train_test_split(X, y, test_size=0.1)"
   ]
  },
  {
   "cell_type": "markdown",
   "id": "cca9c3be",
   "metadata": {},
   "source": [
    "In this case, the `X_train` data frame has the inputs we'll use for training, and the `y_train` has the outputs for those same data points. "
   ]
  },
  {
   "cell_type": "code",
   "execution_count": 19,
   "id": "00a723c2",
   "metadata": {},
   "outputs": [
    {
     "name": "stdout",
     "output_type": "stream",
     "text": [
      "(81, 2)\n"
     ]
    },
    {
     "data": {
      "text/html": [
       "<div>\n",
       "<style scoped>\n",
       "    .dataframe tbody tr th:only-of-type {\n",
       "        vertical-align: middle;\n",
       "    }\n",
       "\n",
       "    .dataframe tbody tr th {\n",
       "        vertical-align: top;\n",
       "    }\n",
       "\n",
       "    .dataframe thead th {\n",
       "        text-align: right;\n",
       "    }\n",
       "</style>\n",
       "<table border=\"1\" class=\"dataframe\">\n",
       "  <thead>\n",
       "    <tr style=\"text-align: right;\">\n",
       "      <th></th>\n",
       "      <th>x1</th>\n",
       "      <th>x2</th>\n",
       "    </tr>\n",
       "  </thead>\n",
       "  <tbody>\n",
       "    <tr>\n",
       "      <th>38</th>\n",
       "      <td>-2.881874</td>\n",
       "      <td>-5.895848</td>\n",
       "    </tr>\n",
       "    <tr>\n",
       "      <th>22</th>\n",
       "      <td>-3.746462</td>\n",
       "      <td>0.410713</td>\n",
       "    </tr>\n",
       "    <tr>\n",
       "      <th>28</th>\n",
       "      <td>4.785038</td>\n",
       "      <td>2.923179</td>\n",
       "    </tr>\n",
       "    <tr>\n",
       "      <th>34</th>\n",
       "      <td>-0.236981</td>\n",
       "      <td>-0.619167</td>\n",
       "    </tr>\n",
       "    <tr>\n",
       "      <th>2</th>\n",
       "      <td>-6.243875</td>\n",
       "      <td>5.288547</td>\n",
       "    </tr>\n",
       "  </tbody>\n",
       "</table>\n",
       "</div>"
      ],
      "text/plain": [
       "          x1        x2\n",
       "38 -2.881874 -5.895848\n",
       "22 -3.746462  0.410713\n",
       "28  4.785038  2.923179\n",
       "34 -0.236981 -0.619167\n",
       "2  -6.243875  5.288547"
      ]
     },
     "execution_count": 19,
     "metadata": {},
     "output_type": "execute_result"
    }
   ],
   "source": [
    "print(X_train.shape)\n",
    "X_train.head()"
   ]
  },
  {
   "cell_type": "code",
   "execution_count": 20,
   "id": "ff5fb4ed",
   "metadata": {},
   "outputs": [
    {
     "name": "stdout",
     "output_type": "stream",
     "text": [
      "(81,)\n"
     ]
    },
    {
     "data": {
      "text/plain": [
       "38        egg\n",
       "22    chicken\n",
       "28    chicken\n",
       "34    chicken\n",
       "2     chicken\n",
       "Name: Label, dtype: object"
      ]
     },
     "execution_count": 20,
     "metadata": {},
     "output_type": "execute_result"
    }
   ],
   "source": [
    "print(y_train.shape)\n",
    "y_train.head()"
   ]
  },
  {
   "cell_type": "markdown",
   "id": "d3bda846",
   "metadata": {},
   "source": [
    "The `X_test` data frame has the inputs we'll use for test, and the `y_test` has the outputs for those same data points. We don't get to touch these until after the training is all done! Otherwise we are data-snooping!"
   ]
  },
  {
   "cell_type": "code",
   "execution_count": 21,
   "id": "bded2968",
   "metadata": {},
   "outputs": [
    {
     "name": "stdout",
     "output_type": "stream",
     "text": [
      "(9, 2)\n"
     ]
    },
    {
     "data": {
      "text/html": [
       "<div>\n",
       "<style scoped>\n",
       "    .dataframe tbody tr th:only-of-type {\n",
       "        vertical-align: middle;\n",
       "    }\n",
       "\n",
       "    .dataframe tbody tr th {\n",
       "        vertical-align: top;\n",
       "    }\n",
       "\n",
       "    .dataframe thead th {\n",
       "        text-align: right;\n",
       "    }\n",
       "</style>\n",
       "<table border=\"1\" class=\"dataframe\">\n",
       "  <thead>\n",
       "    <tr style=\"text-align: right;\">\n",
       "      <th></th>\n",
       "      <th>x1</th>\n",
       "      <th>x2</th>\n",
       "    </tr>\n",
       "  </thead>\n",
       "  <tbody>\n",
       "    <tr>\n",
       "      <th>48</th>\n",
       "      <td>-6.935303</td>\n",
       "      <td>1.290273</td>\n",
       "    </tr>\n",
       "    <tr>\n",
       "      <th>56</th>\n",
       "      <td>-0.044803</td>\n",
       "      <td>0.702554</td>\n",
       "    </tr>\n",
       "    <tr>\n",
       "      <th>44</th>\n",
       "      <td>-1.113426</td>\n",
       "      <td>-3.780878</td>\n",
       "    </tr>\n",
       "    <tr>\n",
       "      <th>66</th>\n",
       "      <td>1.992150</td>\n",
       "      <td>4.257542</td>\n",
       "    </tr>\n",
       "    <tr>\n",
       "      <th>0</th>\n",
       "      <td>-3.156478</td>\n",
       "      <td>-1.110356</td>\n",
       "    </tr>\n",
       "    <tr>\n",
       "      <th>70</th>\n",
       "      <td>3.780842</td>\n",
       "      <td>-3.458445</td>\n",
       "    </tr>\n",
       "    <tr>\n",
       "      <th>58</th>\n",
       "      <td>4.528291</td>\n",
       "      <td>6.882954</td>\n",
       "    </tr>\n",
       "    <tr>\n",
       "      <th>9</th>\n",
       "      <td>-2.601184</td>\n",
       "      <td>5.737621</td>\n",
       "    </tr>\n",
       "    <tr>\n",
       "      <th>41</th>\n",
       "      <td>-1.708561</td>\n",
       "      <td>-0.530015</td>\n",
       "    </tr>\n",
       "  </tbody>\n",
       "</table>\n",
       "</div>"
      ],
      "text/plain": [
       "          x1        x2\n",
       "48 -6.935303  1.290273\n",
       "56 -0.044803  0.702554\n",
       "44 -1.113426 -3.780878\n",
       "66  1.992150  4.257542\n",
       "0  -3.156478 -1.110356\n",
       "70  3.780842 -3.458445\n",
       "58  4.528291  6.882954\n",
       "9  -2.601184  5.737621\n",
       "41 -1.708561 -0.530015"
      ]
     },
     "execution_count": 21,
     "metadata": {},
     "output_type": "execute_result"
    }
   ],
   "source": [
    "print(X_test.shape)\n",
    "X_test.head(10)"
   ]
  },
  {
   "cell_type": "code",
   "execution_count": 22,
   "id": "ec4097eb",
   "metadata": {},
   "outputs": [
    {
     "name": "stdout",
     "output_type": "stream",
     "text": [
      "(9,)\n"
     ]
    },
    {
     "data": {
      "text/plain": [
       "48    chicken\n",
       "56        egg\n",
       "44        egg\n",
       "66    chicken\n",
       "0     chicken\n",
       "70        egg\n",
       "58    chicken\n",
       "9     chicken\n",
       "41    chicken\n",
       "Name: Label, dtype: object"
      ]
     },
     "execution_count": 22,
     "metadata": {},
     "output_type": "execute_result"
    }
   ],
   "source": [
    "print(y_test.shape)\n",
    "y_test.head(10)"
   ]
  },
  {
   "cell_type": "markdown",
   "id": "9a170d0a",
   "metadata": {},
   "source": [
    "&#9989; **<font color=red>Do this:</font>** Build a KNN classifier using $k=3$ neighbors, and train it on your `X_train` and `y_train` data. Call it `knn` like before. \n",
    "\n",
    "- What is your training accuracy? \n",
    "- What is your testing accuracy? "
   ]
  },
  {
   "cell_type": "code",
   "execution_count": 24,
   "id": "1c0010be",
   "metadata": {},
   "outputs": [
    {
     "data": {
      "text/plain": [
       "1.0"
      ]
     },
     "execution_count": 24,
     "metadata": {},
     "output_type": "execute_result"
    }
   ],
   "source": [
    "# Your code here\n",
    "\n",
    "knn_3 = KNeighborsClassifier(n_neighbors=3)\n",
    "knn_3.fit(X_train,y_train)\n",
    "\n",
    "accuracy_score(knn.predict(X_test), y_test)\n"
   ]
  },
  {
   "cell_type": "markdown",
   "id": "7ab10a3d",
   "metadata": {},
   "source": [
    "I want to show you one more nice command in here. Remember that KNNs work by returning the label of the most frequently seen label among the $k$ numbers, but that doesn't mean every neighbor had that label. \n",
    "\n",
    "The `predict_proba` function will tell you the percentage of each that was seen. "
   ]
  },
  {
   "cell_type": "code",
   "execution_count": 32,
   "id": "1127ddbf",
   "metadata": {},
   "outputs": [
    {
     "data": {
      "text/plain": [
       "array([[1., 0.],\n",
       "       [0., 1.],\n",
       "       [0., 1.],\n",
       "       [1., 0.],\n",
       "       [1., 0.],\n",
       "       [0., 1.],\n",
       "       [1., 0.],\n",
       "       [1., 0.],\n",
       "       [1., 0.]])"
      ]
     },
     "execution_count": 32,
     "metadata": {},
     "output_type": "execute_result"
    }
   ],
   "source": [
    "knn.predict_proba(X_test)"
   ]
  },
  {
   "cell_type": "markdown",
   "id": "903eff51",
   "metadata": {},
   "source": [
    "## Bayes classifier \n",
    "\n",
    "Now, because I generated our data, we can take a look at how our results match up with the Bayes classifier. \n"
   ]
  },
  {
   "cell_type": "code",
   "execution_count": 36,
   "id": "955a0a44",
   "metadata": {},
   "outputs": [
    {
     "data": {
      "text/plain": [
       "array([-7.        , -6.48148148, -5.96296296, -5.44444444, -4.92592593,\n",
       "       -4.40740741, -3.88888889, -3.37037037, -2.85185185, -2.33333333,\n",
       "       -1.81481481, -1.2962963 , -0.77777778, -0.25925926,  0.25925926,\n",
       "        0.77777778,  1.2962963 ,  1.81481481,  2.33333333,  2.85185185,\n",
       "        3.37037037,  3.88888889,  4.40740741,  4.92592593,  5.44444444,\n",
       "        5.96296296,  6.48148148,  7.        , -7.        , -6.48148148,\n",
       "       -5.96296296, -5.44444444, -4.92592593, -4.40740741, -3.88888889,\n",
       "       -3.37037037, -2.85185185, -2.33333333, -1.81481481, -1.2962963 ,\n",
       "       -0.77777778, -0.25925926,  0.25925926,  0.77777778,  1.2962963 ,\n",
       "        1.81481481,  2.33333333,  2.85185185,  3.37037037,  3.88888889,\n",
       "        4.40740741,  4.92592593,  5.44444444,  5.96296296,  6.48148148,\n",
       "        7.        , -7.        , -6.48148148, -5.96296296, -5.44444444,\n",
       "       -4.92592593, -4.40740741, -3.88888889, -3.37037037, -2.85185185,\n",
       "       -2.33333333, -1.81481481, -1.2962963 , -0.77777778, -0.25925926,\n",
       "        0.25925926,  0.77777778,  1.2962963 ,  1.81481481,  2.33333333,\n",
       "        2.85185185,  3.37037037,  3.88888889,  4.40740741,  4.92592593,\n",
       "        5.44444444,  5.96296296,  6.48148148,  7.        , -7.        ,\n",
       "       -6.48148148, -5.96296296, -5.44444444, -4.92592593, -4.40740741,\n",
       "       -3.88888889, -3.37037037, -2.85185185, -2.33333333, -1.81481481,\n",
       "       -1.2962963 , -0.77777778, -0.25925926,  0.25925926,  0.77777778,\n",
       "        1.2962963 ,  1.81481481,  2.33333333,  2.85185185,  3.37037037,\n",
       "        3.88888889,  4.40740741,  4.92592593,  5.44444444,  5.96296296,\n",
       "        6.48148148,  7.        , -7.        , -6.48148148, -5.96296296,\n",
       "       -5.44444444, -4.92592593, -4.40740741, -3.88888889, -3.37037037,\n",
       "       -2.85185185, -2.33333333, -1.81481481, -1.2962963 , -0.77777778,\n",
       "       -0.25925926,  0.25925926,  0.77777778,  1.2962963 ,  1.81481481,\n",
       "        2.33333333,  2.85185185,  3.37037037,  3.88888889,  4.40740741,\n",
       "        4.92592593,  5.44444444,  5.96296296,  6.48148148,  7.        ,\n",
       "       -7.        , -6.48148148, -5.96296296, -5.44444444, -4.92592593,\n",
       "       -4.40740741, -3.88888889, -3.37037037, -2.85185185, -2.33333333,\n",
       "       -1.81481481, -1.2962963 , -0.77777778, -0.25925926,  0.25925926,\n",
       "        0.77777778,  1.2962963 ,  1.81481481,  2.33333333,  2.85185185,\n",
       "        3.37037037,  3.88888889,  4.40740741,  4.92592593,  5.44444444,\n",
       "        5.96296296,  6.48148148,  7.        , -7.        , -6.48148148,\n",
       "       -5.96296296, -5.44444444, -4.92592593, -4.40740741, -3.88888889,\n",
       "       -3.37037037, -2.85185185, -2.33333333, -1.81481481, -1.2962963 ,\n",
       "       -0.77777778, -0.25925926,  0.25925926,  0.77777778,  1.2962963 ,\n",
       "        1.81481481,  2.33333333,  2.85185185,  3.37037037,  3.88888889,\n",
       "        4.40740741,  4.92592593,  5.44444444,  5.96296296,  6.48148148,\n",
       "        7.        , -7.        , -6.48148148, -5.96296296, -5.44444444,\n",
       "       -4.92592593, -4.40740741, -3.88888889, -3.37037037, -2.85185185,\n",
       "       -2.33333333, -1.81481481, -1.2962963 , -0.77777778, -0.25925926,\n",
       "        0.25925926,  0.77777778,  1.2962963 ,  1.81481481,  2.33333333,\n",
       "        2.85185185,  3.37037037,  3.88888889,  4.40740741,  4.92592593,\n",
       "        5.44444444,  5.96296296,  6.48148148,  7.        , -7.        ,\n",
       "       -6.48148148, -5.96296296, -5.44444444, -4.92592593, -4.40740741,\n",
       "       -3.88888889, -3.37037037, -2.85185185, -2.33333333, -1.81481481,\n",
       "       -1.2962963 , -0.77777778, -0.25925926,  0.25925926,  0.77777778,\n",
       "        1.2962963 ,  1.81481481,  2.33333333,  2.85185185,  3.37037037,\n",
       "        3.88888889,  4.40740741,  4.92592593,  5.44444444,  5.96296296,\n",
       "        6.48148148,  7.        , -7.        , -6.48148148, -5.96296296,\n",
       "       -5.44444444, -4.92592593, -4.40740741, -3.88888889, -3.37037037,\n",
       "       -2.85185185, -2.33333333, -1.81481481, -1.2962963 , -0.77777778,\n",
       "       -0.25925926,  0.25925926,  0.77777778,  1.2962963 ,  1.81481481,\n",
       "        2.33333333,  2.85185185,  3.37037037,  3.88888889,  4.40740741,\n",
       "        4.92592593,  5.44444444,  5.96296296,  6.48148148,  7.        ,\n",
       "       -7.        , -6.48148148, -5.96296296, -5.44444444, -4.92592593,\n",
       "       -4.40740741, -3.88888889, -3.37037037, -2.85185185, -2.33333333,\n",
       "       -1.81481481, -1.2962963 , -0.77777778, -0.25925926,  0.25925926,\n",
       "        0.77777778,  1.2962963 ,  1.81481481,  2.33333333,  2.85185185,\n",
       "        3.37037037,  3.88888889,  4.40740741,  4.92592593,  5.44444444,\n",
       "        5.96296296,  6.48148148,  7.        , -7.        , -6.48148148,\n",
       "       -5.96296296, -5.44444444, -4.92592593, -4.40740741, -3.88888889,\n",
       "       -3.37037037, -2.85185185, -2.33333333, -1.81481481, -1.2962963 ,\n",
       "       -0.77777778, -0.25925926,  0.25925926,  0.77777778,  1.2962963 ,\n",
       "        1.81481481,  2.33333333,  2.85185185,  3.37037037,  3.88888889,\n",
       "        4.40740741,  4.92592593,  5.44444444,  5.96296296,  6.48148148,\n",
       "        7.        , -7.        , -6.48148148, -5.96296296, -5.44444444,\n",
       "       -4.92592593, -4.40740741, -3.88888889, -3.37037037, -2.85185185,\n",
       "       -2.33333333, -1.81481481, -1.2962963 , -0.77777778, -0.25925926,\n",
       "        0.25925926,  0.77777778,  1.2962963 ,  1.81481481,  2.33333333,\n",
       "        2.85185185,  3.37037037,  3.88888889,  4.40740741,  4.92592593,\n",
       "        5.44444444,  5.96296296,  6.48148148,  7.        , -7.        ,\n",
       "       -6.48148148, -5.96296296, -5.44444444, -4.92592593, -4.40740741,\n",
       "       -3.88888889, -3.37037037, -2.85185185, -2.33333333, -1.81481481,\n",
       "       -1.2962963 , -0.77777778, -0.25925926,  0.25925926,  0.77777778,\n",
       "        1.2962963 ,  1.81481481,  2.33333333,  2.85185185,  3.37037037,\n",
       "        3.88888889,  4.40740741,  4.92592593,  5.44444444,  5.96296296,\n",
       "        6.48148148,  7.        , -7.        , -6.48148148, -5.96296296,\n",
       "       -5.44444444, -4.92592593, -4.40740741, -3.88888889, -3.37037037,\n",
       "       -2.85185185, -2.33333333, -1.81481481, -1.2962963 , -0.77777778,\n",
       "       -0.25925926,  0.25925926,  0.77777778,  1.2962963 ,  1.81481481,\n",
       "        2.33333333,  2.85185185,  3.37037037,  3.88888889,  4.40740741,\n",
       "        4.92592593,  5.44444444,  5.96296296,  6.48148148,  7.        ,\n",
       "       -7.        , -6.48148148, -5.96296296, -5.44444444, -4.92592593,\n",
       "       -4.40740741, -3.88888889, -3.37037037, -2.85185185, -2.33333333,\n",
       "       -1.81481481, -1.2962963 , -0.77777778, -0.25925926,  0.25925926,\n",
       "        0.77777778,  1.2962963 ,  1.81481481,  2.33333333,  2.85185185,\n",
       "        3.37037037,  3.88888889,  4.40740741,  4.92592593,  5.44444444,\n",
       "        5.96296296,  6.48148148,  7.        , -7.        , -6.48148148,\n",
       "       -5.96296296, -5.44444444, -4.92592593, -4.40740741, -3.88888889,\n",
       "       -3.37037037, -2.85185185, -2.33333333, -1.81481481, -1.2962963 ,\n",
       "       -0.77777778, -0.25925926,  0.25925926,  0.77777778,  1.2962963 ,\n",
       "        1.81481481,  2.33333333,  2.85185185,  3.37037037,  3.88888889,\n",
       "        4.40740741,  4.92592593,  5.44444444,  5.96296296,  6.48148148,\n",
       "        7.        , -7.        , -6.48148148, -5.96296296, -5.44444444,\n",
       "       -4.92592593, -4.40740741, -3.88888889, -3.37037037, -2.85185185,\n",
       "       -2.33333333, -1.81481481, -1.2962963 , -0.77777778, -0.25925926,\n",
       "        0.25925926,  0.77777778,  1.2962963 ,  1.81481481,  2.33333333,\n",
       "        2.85185185,  3.37037037,  3.88888889,  4.40740741,  4.92592593,\n",
       "        5.44444444,  5.96296296,  6.48148148,  7.        , -7.        ,\n",
       "       -6.48148148, -5.96296296, -5.44444444, -4.92592593, -4.40740741,\n",
       "       -3.88888889, -3.37037037, -2.85185185, -2.33333333, -1.81481481,\n",
       "       -1.2962963 , -0.77777778, -0.25925926,  0.25925926,  0.77777778,\n",
       "        1.2962963 ,  1.81481481,  2.33333333,  2.85185185,  3.37037037,\n",
       "        3.88888889,  4.40740741,  4.92592593,  5.44444444,  5.96296296,\n",
       "        6.48148148,  7.        , -7.        , -6.48148148, -5.96296296,\n",
       "       -5.44444444, -4.92592593, -4.40740741, -3.88888889, -3.37037037,\n",
       "       -2.85185185, -2.33333333, -1.81481481, -1.2962963 , -0.77777778,\n",
       "       -0.25925926,  0.25925926,  0.77777778,  1.2962963 ,  1.81481481,\n",
       "        2.33333333,  2.85185185,  3.37037037,  3.88888889,  4.40740741,\n",
       "        4.92592593,  5.44444444,  5.96296296,  6.48148148,  7.        ,\n",
       "       -7.        , -6.48148148, -5.96296296, -5.44444444, -4.92592593,\n",
       "       -4.40740741, -3.88888889, -3.37037037, -2.85185185, -2.33333333,\n",
       "       -1.81481481, -1.2962963 , -0.77777778, -0.25925926,  0.25925926,\n",
       "        0.77777778,  1.2962963 ,  1.81481481,  2.33333333,  2.85185185,\n",
       "        3.37037037,  3.88888889,  4.40740741,  4.92592593,  5.44444444,\n",
       "        5.96296296,  6.48148148,  7.        , -7.        , -6.48148148,\n",
       "       -5.96296296, -5.44444444, -4.92592593, -4.40740741, -3.88888889,\n",
       "       -3.37037037, -2.85185185, -2.33333333, -1.81481481, -1.2962963 ,\n",
       "       -0.77777778, -0.25925926,  0.25925926,  0.77777778,  1.2962963 ,\n",
       "        1.81481481,  2.33333333,  2.85185185,  3.37037037,  3.88888889,\n",
       "        4.40740741,  4.92592593,  5.44444444,  5.96296296,  6.48148148,\n",
       "        7.        , -7.        , -6.48148148, -5.96296296, -5.44444444,\n",
       "       -4.92592593, -4.40740741, -3.88888889, -3.37037037, -2.85185185,\n",
       "       -2.33333333, -1.81481481, -1.2962963 , -0.77777778, -0.25925926,\n",
       "        0.25925926,  0.77777778,  1.2962963 ,  1.81481481,  2.33333333,\n",
       "        2.85185185,  3.37037037,  3.88888889,  4.40740741,  4.92592593,\n",
       "        5.44444444,  5.96296296,  6.48148148,  7.        , -7.        ,\n",
       "       -6.48148148, -5.96296296, -5.44444444, -4.92592593, -4.40740741,\n",
       "       -3.88888889, -3.37037037, -2.85185185, -2.33333333, -1.81481481,\n",
       "       -1.2962963 , -0.77777778, -0.25925926,  0.25925926,  0.77777778,\n",
       "        1.2962963 ,  1.81481481,  2.33333333,  2.85185185,  3.37037037,\n",
       "        3.88888889,  4.40740741,  4.92592593,  5.44444444,  5.96296296,\n",
       "        6.48148148,  7.        , -7.        , -6.48148148, -5.96296296,\n",
       "       -5.44444444, -4.92592593, -4.40740741, -3.88888889, -3.37037037,\n",
       "       -2.85185185, -2.33333333, -1.81481481, -1.2962963 , -0.77777778,\n",
       "       -0.25925926,  0.25925926,  0.77777778,  1.2962963 ,  1.81481481,\n",
       "        2.33333333,  2.85185185,  3.37037037,  3.88888889,  4.40740741,\n",
       "        4.92592593,  5.44444444,  5.96296296,  6.48148148,  7.        ,\n",
       "       -7.        , -6.48148148, -5.96296296, -5.44444444, -4.92592593,\n",
       "       -4.40740741, -3.88888889, -3.37037037, -2.85185185, -2.33333333,\n",
       "       -1.81481481, -1.2962963 , -0.77777778, -0.25925926,  0.25925926,\n",
       "        0.77777778,  1.2962963 ,  1.81481481,  2.33333333,  2.85185185,\n",
       "        3.37037037,  3.88888889,  4.40740741,  4.92592593,  5.44444444,\n",
       "        5.96296296,  6.48148148,  7.        , -7.        , -6.48148148,\n",
       "       -5.96296296, -5.44444444, -4.92592593, -4.40740741, -3.88888889,\n",
       "       -3.37037037, -2.85185185, -2.33333333, -1.81481481, -1.2962963 ,\n",
       "       -0.77777778, -0.25925926,  0.25925926,  0.77777778,  1.2962963 ,\n",
       "        1.81481481,  2.33333333,  2.85185185,  3.37037037,  3.88888889,\n",
       "        4.40740741,  4.92592593,  5.44444444,  5.96296296,  6.48148148,\n",
       "        7.        , -7.        , -6.48148148, -5.96296296, -5.44444444,\n",
       "       -4.92592593, -4.40740741, -3.88888889, -3.37037037, -2.85185185,\n",
       "       -2.33333333, -1.81481481, -1.2962963 , -0.77777778, -0.25925926,\n",
       "        0.25925926,  0.77777778,  1.2962963 ,  1.81481481,  2.33333333,\n",
       "        2.85185185,  3.37037037,  3.88888889,  4.40740741,  4.92592593,\n",
       "        5.44444444,  5.96296296,  6.48148148,  7.        ])"
      ]
     },
     "execution_count": 36,
     "metadata": {},
     "output_type": "execute_result"
    }
   ],
   "source": [
    "# Run this cell, we just need to generate some inputs \n",
    "# to be able to draw figures in a moment. \n",
    "t = np.linspace(-7,7,28)\n",
    "X_mesh,Y_mesh = np.meshgrid(t,t)\n",
    "X_mesh_flat = X_mesh.flatten()\n",
    "Y_mesh_flat = Y_mesh.flatten()\n",
    "test_all_df = pd.DataFrame({'x1':X_mesh_flat,'x2':Y_mesh_flat})"
   ]
  },
  {
   "cell_type": "markdown",
   "id": "7cf1fd25",
   "metadata": {},
   "source": [
    "First, I am going to set up some code that will figure out what your model, named `knn` above hopfully, will predict for a grid of numbers covering our $[-7,7] \\times [-7,7]$ box. "
   ]
  },
  {
   "cell_type": "code",
   "execution_count": 35,
   "id": "088dc7a3",
   "metadata": {},
   "outputs": [],
   "source": [
    "pred_all = knn.predict(test_all_df)\n",
    "def to_int(chickegg):\n",
    "    if chickegg == 'egg':\n",
    "        return -1\n",
    "    else:\n",
    "        return 1\n",
    "    \n",
    "pred_all = np.array([to_int(x) for x in pred_all])\n",
    "pred_all.shape\n",
    "pred_all = pred_all.reshape([28,28])"
   ]
  },
  {
   "cell_type": "markdown",
   "id": "bbf9096b",
   "metadata": {},
   "source": [
    "Then this will plot these predictions on our 2D plane. "
   ]
  },
  {
   "cell_type": "code",
   "execution_count": null,
   "id": "38863195",
   "metadata": {},
   "outputs": [],
   "source": [
    "plt.pcolor(X_mesh,Y_mesh,pred_all)\n",
    "\n",
    "cbar = plt.colorbar(ticks=[-1, 1])\n",
    "cbar.ax.set_yticklabels(['egg','chicken'])"
   ]
  },
  {
   "cell_type": "markdown",
   "id": "9422cb5b",
   "metadata": {},
   "source": [
    "&#9989; **<font color=red>Q:</font>** Using this plot, what is your model going to predict for a data point at $(-4,6)$? "
   ]
  },
  {
   "cell_type": "markdown",
   "id": "757bfc21",
   "metadata": {},
   "source": [
    "*Your answer here*"
   ]
  },
  {
   "cell_type": "markdown",
   "id": "13bc00b0",
   "metadata": {},
   "source": [
    "Note that since I generated this data, I know where the line was between the two regions used to generate it. In my case, I happened to use the function \n",
    "$$\n",
    "f(x_1,x_2) = (x_2)^3 - x_2 -x_1\n",
    "$$\n",
    "and labeled a new data point based on whether $f(x_1,x_2) + \\varepsilon$ was positive or negative. \n",
    "\n",
    "Below, you can see $f(x_1,x_2)$ (in this case, the Bayes classifier) drawn on top of your model's predictions. How similar did you get? \n",
    "\n",
    "&#9989; **<font color=red>Q:</font>** Where are the regions that your model predicts something different than the Bayes classifier? "
   ]
  },
  {
   "cell_type": "code",
   "execution_count": 37,
   "id": "c0aa1e10",
   "metadata": {},
   "outputs": [
    {
     "data": {
      "text/plain": [
       "[<matplotlib.lines.Line2D at 0x193b3540940>]"
      ]
     },
     "execution_count": 37,
     "metadata": {},
     "output_type": "execute_result"
    },
    {
     "data": {
      "image/png": "[encoded data removed]",
      "text/plain": [
       "<Figure size 640x480 with 2 Axes>"
      ]
     },
     "metadata": {},
     "output_type": "display_data"
    }
   ],
   "source": [
    "# This command tries to draw a line between the two regions \n",
    "plt.pcolor(X_mesh,Y_mesh,pred_all)\n",
    "\n",
    "cbar = plt.colorbar(ticks=[-1, 1])\n",
    "cbar.ax.set_yticklabels(['egg','chicken'])\n",
    "\n",
    "# This draws the line I used to generate the data \n",
    "ty = np.linspace(-2.1,2.1,100)\n",
    "tx = ty**3 - ty\n",
    "plt.plot(tx,ty, color = 'grey')\n",
    "\n"
   ]
  },
  {
   "cell_type": "markdown",
   "id": "860aee34",
   "metadata": {},
   "source": [
    "## Messing with $k$\n",
    "\n",
    "Finally, we're going to generate plots like Fig 2.17 in the book, where we look at the training and testing errors vs the flexibility (in this case, $1/k$) of the model used. "
   ]
  },
  {
   "cell_type": "code",
   "execution_count": 43,
   "id": "147f2c8a",
   "metadata": {},
   "outputs": [
    {
     "name": "stdout",
     "output_type": "stream",
     "text": [
      "[25 20  5  2  1]\n"
     ]
    },
    {
     "data": {
      "text/plain": [
       "<matplotlib.legend.Legend at 0x193b48349a0>"
      ]
     },
     "execution_count": 43,
     "metadata": {},
     "output_type": "execute_result"
    },
    {
     "data": {
      "image/png": "[encoded data removed]",
      "text/plain": [
       "<Figure size 640x480 with 1 Axes>"
      ]
     },
     "metadata": {},
     "output_type": "display_data"
    }
   ],
   "source": [
    "# Our choices of $K$\n",
    "# Note that the graph will use $1/k$ for flexibility\n",
    "Kinv = np.array([0.04, 0.05,0.2,0.5,1])\n",
    "Ks = 1/Kinv\n",
    "Ks = Ks.astype(int)\n",
    "print(Ks)\n",
    "\n",
    "Accuracies = []\n",
    "TrainAccuracies = []\n",
    "\n",
    "\n",
    "# I'm going to run this model for all my choices of k\n",
    "for k in Ks:\n",
    "    thisruntest = []\n",
    "    thisruntrain = []\n",
    "    \n",
    "    # For each choice of k, i'll do this 10 times and average\n",
    "    for runNum in range(10):\n",
    "        X_train, X_test, y_train, y_test = train_test_split(X, y, test_size=0.3)\n",
    "        knn = KNeighborsClassifier(n_neighbors=k)\n",
    "        knn.fit(X_train,y_train)\n",
    "        \n",
    "        # Figure out my training error rate \n",
    "        acctrain = accuracy_score(knn.predict(X_train),y_train)\n",
    "        thisruntrain.append(1-acctrain)\n",
    "        \n",
    "        # Figure out my testing error rate\n",
    "        acctest = accuracy_score(knn.predict(X_test),y_test)\n",
    "        thisruntest.append(1-acctest)\n",
    "    \n",
    "    # Keep the average over the 10 runs\n",
    "    TrainAccuracies.append(np.average(thisruntrain))\n",
    "    Accuracies.append(np.average(thisruntest))\n",
    "\n",
    "    \n",
    "# Plot train and test with x-axis on a log scale\n",
    "plt.semilogx(1/Ks,TrainAccuracies, label = 'Train')\n",
    "plt.semilogx(1/Ks,Accuracies, label = 'Test')\n",
    "plt.xlabel('1/k')\n",
    "plt.ylabel('Error rate')\n",
    "plt.legend()"
   ]
  },
  {
   "cell_type": "markdown",
   "id": "472ed8c2",
   "metadata": {},
   "source": [
    "&#9989; **<font color=red>Q:</font>** Based on your graph above\n",
    "- What do you notice about the shape of the train and test error plots? \n",
    "- What would you choose for $k$ based on this data? "
   ]
  },
  {
   "cell_type": "markdown",
   "id": "66f79113",
   "metadata": {},
   "source": [
    "\n",
    "\n",
    "-----\n",
    "### Congratulations, we're done!\n",
    "Written by Dr. Liz Munch, Michigan State University\n",
    "\n",
    "<a rel=\"license\" href=\"http://creativecommons.org/licenses/by-nc/4.0/\"><img alt=\"Creative Commons License\" style=\"border-width:0\" src=\"https://i.creativecommons.org/l/by-nc/4.0/88x31.png\" /></a><br />This work is licensed under a <a rel=\"license\" href=\"http://creativecommons.org/licenses/by-nc/4.0/\">Creative Commons Attribution-NonCommercial 4.0 International License</a>."
   ]
  },
  {
   "cell_type": "markdown",
   "id": "1877d319",
   "metadata": {},
   "source": []
  },
  {
   "cell_type": "code",
   "execution_count": null,
   "id": "3fb8354f",
   "metadata": {},
   "outputs": [],
   "source": []
  }
 ],
 "metadata": {
  "kernelspec": {
   "display_name": "Python 3 (ipykernel)",
   "language": "python",
   "name": "python3"
  },
  "language_info": {
   "codemirror_mode": {
    "name": "ipython",
    "version": 3
   },
   "file_extension": ".py",
   "mimetype": "text/x-python",
   "name": "python",
   "nbconvert_exporter": "python",
   "pygments_lexer": "ipython3",
   "version": "3.9.0"
  }
 },
 "nbformat": 4,
 "nbformat_minor": 5
}
